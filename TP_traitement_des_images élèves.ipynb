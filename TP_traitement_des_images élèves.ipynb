{
  "cells": [
    {
      "cell_type": "code",
      "execution_count": 1,
      "metadata": {
        "colab": {
          "base_uri": "https://localhost:8080/"
        },
        "id": "6C4W2pqW_Ziu",
        "outputId": "23b64b6c-dcc4-4039-dbff-2f80b4acbca1"
      },
      "outputs": [
        {
          "output_type": "stream",
          "name": "stdout",
          "text": [
            "/content\n",
            "Cloning into 'TP-Traitement-des-images'...\n",
            "remote: Enumerating objects: 119, done.\u001b[K\n",
            "remote: Counting objects: 100% (20/20), done.\u001b[K\n",
            "remote: Compressing objects: 100% (19/19), done.\u001b[K\n",
            "remote: Total 119 (delta 10), reused 1 (delta 1), pack-reused 99\u001b[K\n",
            "Receiving objects: 100% (119/119), 3.01 MiB | 10.71 MiB/s, done.\n",
            "Resolving deltas: 100% (50/50), done.\n",
            "/content/TP-Traitement-des-images\n"
          ]
        }
      ],
      "source": [
        "!pwd\n",
        "!git clone https://github.com/zhongzheng-he/TP-Traitement-des-images.git\n",
        "%cd /content/TP-Traitement-des-images\n",
        "%matplotlib inline"
      ]
    },
    {
      "cell_type": "markdown",
      "source": [
        "#Introduction: Prise en main (Exercice 0)\n"
      ],
      "metadata": {
        "id": "j5aM_qh4Xh9h"
      }
    },
    {
      "cell_type": "markdown",
      "metadata": {
        "id": "42kL_q1Q_PQ0"
      },
      "source": [
        "### Importation des différents modules python\n"
      ]
    },
    {
      "cell_type": "code",
      "execution_count": 2,
      "metadata": {
        "id": "0ShmAp7I_PQ6"
      },
      "outputs": [],
      "source": [
        "import numpy as np\n",
        "import scipy.misc as misc\n",
        "import iptools.imdisplaytools as imdisp\n",
        "from iptools.tictoc import *\n",
        "import matplotlib.pyplot as plt\n",
        "\n",
        "plt.rcParams['figure.figsize'] = [10, 8] # set figure size\n",
        "%matplotlib inline"
      ]
    },
    {
      "cell_type": "markdown",
      "metadata": {
        "id": "iNRPoQJN_PQ8"
      },
      "source": [
        "### Chargement d'une image test & affichage\n",
        "\n",
        "<img align=\"left\" src=\"https://github.com/zhongzheng-he/TP-Traitement-des-images/blob/main/images/loading.png?raw=1\" width=\"400px\"/>"
      ]
    },
    {
      "cell_type": "code",
      "execution_count": null,
      "metadata": {
        "id": "wRuAgmlZ_PQ9"
      },
      "outputs": [],
      "source": [
        "# image loading => create an array im of a racoon face.\n",
        "im = misc.face(gray=True)\n",
        "\n",
        "# display image\n",
        "imdisp.imshow(im)"
      ]
    },
    {
      "cell_type": "code",
      "execution_count": null,
      "metadata": {
        "id": "iMueAX053Y30"
      },
      "outputs": [],
      "source": [
        "#Another way to display an image\n",
        "plt.figure\n",
        "plt.imshow(im, cmap='gray')"
      ]
    },
    {
      "cell_type": "code",
      "execution_count": null,
      "metadata": {
        "id": "ZQ8AGZ2K4jyT"
      },
      "outputs": [],
      "source": [
        "# Remove the axis\n",
        "plt.axis('off')\n",
        "plt.imshow(im,cmap='gray')"
      ]
    },
    {
      "cell_type": "markdown",
      "metadata": {
        "id": "n9JApYJJ_PQ9"
      },
      "source": [
        "### Afficher le pixel à la position  (row=42, column=1023)\n",
        "\n",
        "#### >> 42"
      ]
    },
    {
      "cell_type": "code",
      "source": [
        "# Help\n",
        "# See \"aide mémoire\" page 3 to determine a pixel value."
      ],
      "metadata": {
        "id": "j6hR-i3f1Krg"
      },
      "execution_count": null,
      "outputs": []
    },
    {
      "cell_type": "code",
      "execution_count": null,
      "metadata": {
        "colab": {
          "base_uri": "https://localhost:8080/"
        },
        "id": "dKwjE9bZ_PQ-",
        "outputId": "636c1ec0-27ee-4221-c41c-cc1adc6f30d0"
      },
      "outputs": [
        {
          "output_type": "stream",
          "name": "stdout",
          "text": [
            "42\n",
            "42\n"
          ]
        }
      ],
      "source": [
        "# display pixel value at position (row=42, column=1023)\n",
        "# TODO\n",
        "print(im[42,1023]) #Method 1\n",
        "print(im[42][1023]) #Method 2"
      ]
    },
    {
      "cell_type": "markdown",
      "metadata": {
        "id": "AWMG18m3_PQ_"
      },
      "source": [
        "### Afficher la taille de l'image :\n",
        "\n",
        "#### >> image size : (768, 1024)\n",
        "\n",
        "\n",
        "### Et le nombre de pixels :\n",
        "\n",
        "#### >> 786432"
      ]
    },
    {
      "cell_type": "markdown",
      "source": [
        "See \"aide mémoire\" page 3 for the size.\n",
        "\n",
        "See \"aide mémoire\" page 8 for the number of pixel (or see the python doc with the numpy size function)"
      ],
      "metadata": {
        "id": "yVXVK1Ys3R24"
      }
    },
    {
      "cell_type": "code",
      "execution_count": null,
      "metadata": {
        "id": "Ts84AkdN_PRA"
      },
      "outputs": [],
      "source": [
        "# display image size & pixels\n",
        "# TODO\n",
        "print(\"Image size = \", im.shape)\n",
        "print(\"Pixel number =\", im.size)\n",
        "print(\"Pixel number =\", np.size(im))\n",
        "# Other method = dim 1 x dim 2\n",
        "print(\"Pixel number =\", im.shape[0]*im.shape[1])"
      ]
    },
    {
      "cell_type": "markdown",
      "metadata": {
        "id": "IUyVDhSz_PRA"
      },
      "source": [
        "### Afficher le type des pixels :\n",
        "\n",
        "#### >> image pixels type : uint8"
      ]
    },
    {
      "cell_type": "markdown",
      "source": [
        "\n",
        "See \"aide mémoire\" page 6 for the image pixels type."
      ],
      "metadata": {
        "id": "_zs15S8d3m6Z"
      }
    },
    {
      "cell_type": "code",
      "execution_count": null,
      "metadata": {
        "id": "p74fSdUj_PRC"
      },
      "outputs": [],
      "source": [
        "# display image pixels type\n",
        "# TODO\n",
        "print(type(im)) # sur l'aide mémoire page 6\n",
        "print(im.dtype) #Data-type of the array’s elements.\n",
        "\n",
        "# Question fot the students:\n",
        "# - What uint8 means? On how many values the pixel can be coded?\n",
        "\n",
        "print(\"im maximum:\", np.max(im),im.dtype)\n",
        "print(\"im minimum:\", np.min(im),im.dtype)\n",
        "\n",
        "plt.hist(im.ravel(),bins='auto')"
      ]
    },
    {
      "cell_type": "markdown",
      "metadata": {
        "id": "2iChBA2n_PRC"
      },
      "source": [
        "### Afficher la somme de tous les pixels :\n",
        "\n",
        "#### >> pixels sum : 89244514"
      ]
    },
    {
      "cell_type": "markdown",
      "source": [
        "See \"aide mémoire\" page 9 for the sum of the pixel values."
      ],
      "metadata": {
        "id": "zPtJ-ym53-mn"
      }
    },
    {
      "cell_type": "code",
      "execution_count": null,
      "metadata": {
        "id": "a2Do0NRM_PRD"
      },
      "outputs": [],
      "source": [
        "# display pixels sum\n",
        "# TODO\n",
        "print(\"la somme de tous les pixels=\",im.sum())\n",
        "\n",
        "print(\"la somme de tous les pixels=\",np.sum(im))"
      ]
    },
    {
      "cell_type": "markdown",
      "metadata": {
        "id": "nOlBXVxO_PRD"
      },
      "source": [
        "### Afficher la moyenne des pixels de l'image :\n",
        "\n",
        "#### >> pixels avg : 113.480…\n",
        "\n",
        "See \"aide mémoire\" page 9 for the mean value of the pixel in the image."
      ]
    },
    {
      "cell_type": "code",
      "execution_count": null,
      "metadata": {
        "id": "lWoyyNG-_PRE"
      },
      "outputs": [],
      "source": [
        "# display pixels average value\n",
        "# TODO\n",
        "print(\"la moyenne des pixels de l'image =\",im.mean())\n",
        "print(\"la moyenne des pixels de l'image =\",np.mean(im))\n"
      ]
    },
    {
      "cell_type": "markdown",
      "metadata": {
        "id": "P3eqNof4_PRE"
      },
      "source": [
        "### Copier l'image dans 'im2' et multplier tous les pixels de im2 *2  ==> Afficher im2:\n",
        "\n",
        "### Expliquer ...\n",
        "\n",
        "<img align=\"left\" src=\"https://github.com/zhongzheng-he/TP-Traitement-des-images/blob/main/images/overflow.png?raw=1\" width=\"400px\"/>\n",
        "\n",
        "\n",
        "\n",
        "\n",
        "\n",
        "\n",
        "\n",
        "\n",
        "\n"
      ]
    },
    {
      "cell_type": "markdown",
      "source": [
        "See \"aide mémoire\" page 5 to copy an image/array."
      ],
      "metadata": {
        "id": "DTxKi-qI4UkP"
      }
    },
    {
      "cell_type": "code",
      "execution_count": null,
      "metadata": {
        "id": "kQ59xCIF_PRE"
      },
      "outputs": [],
      "source": [
        "# copy im into im2 and multiply im2 pixels by 2; then display it\n",
        "# TODO\n",
        "im2=im.copy()\n",
        "# im2=np.copy(im)\n",
        "# im2= im[:]\n",
        "\n",
        "im2 = im2 *2\n",
        "imdisp.imshow(im2)\n",
        "\n",
        "# Question fot the students:\n",
        "# - Why the image appears like that? Think about the uint8."
      ]
    },
    {
      "cell_type": "markdown",
      "source": [
        "### Afficher une sous image de im, i.e un cadre de [120 - 512][360 - 820]\n",
        "\n",
        "<img align=\"left\" src=\"https://github.com/zhongzheng-he/TP-Traitement-des-images/blob/main/images/sub.png?raw=1\" width=\"300px\"/>"
      ],
      "metadata": {
        "id": "5tB7WzKv-6KO"
      }
    },
    {
      "cell_type": "code",
      "source": [
        "# display subimage of im [120 - 512][360-820]\n",
        "# TODO\n",
        "plt.rcParams['figure.figsize'] = [5, 4] # set figure size\n",
        "imdisp.imshow(im[120:512,360:820])"
      ],
      "metadata": {
        "id": "97S_3cAd_VTD"
      },
      "execution_count": null,
      "outputs": []
    },
    {
      "cell_type": "markdown",
      "source": [
        "See \"aide mémoire\" page 7 to select a part of an image/array."
      ],
      "metadata": {
        "id": "2Zz6Od254XsS"
      }
    },
    {
      "cell_type": "markdown",
      "source": [
        "### En utilisant des boucles, affichez la valeur de tous les pixels de l'image im :\n",
        "\n",
        "##### >> 114\n",
        "##### >> 130\n",
        "##### >> 145\n",
        "##### >> …\n",
        "\n",
        "See https://wiki.python.org/moin/ForLoop to know how to code a loop(s) which crosses the image."
      ],
      "metadata": {
        "id": "XAGWgvBfBG38"
      }
    },
    {
      "cell_type": "code",
      "source": [
        "# using loops, print every image's pixels\n",
        "# TODO\n",
        "print(im)\n",
        "\n",
        "# TO UNCOMMENT\n",
        "# for i in range(0, im.shape[0]):\n",
        "#  for j in range(0,im.shape[1]):\n",
        "#    print(im[i,j])"
      ],
      "metadata": {
        "id": "lrORsHQ4BOXy"
      },
      "execution_count": null,
      "outputs": []
    },
    {
      "cell_type": "markdown",
      "source": [
        "### Copiez l'image im dans im3 puis, en utilisant des boucles, effacez (peindre en noir) la région [120 - 512][360 - 820].\n",
        "\n",
        "<img align=\"left\" src=\"https://github.com/zhongzheng-he/TP-Traitement-des-images/blob/main/images/erase.png?raw=1\" width=\"400px\"/>"
      ],
      "metadata": {
        "id": "w1A9JHiFC4B9"
      }
    },
    {
      "cell_type": "markdown",
      "source": [
        "cf. previous questions using the loops.\n",
        "The \"slicing\" refers to the selection of slices like Image[val1:val2, val3:val4]"
      ],
      "metadata": {
        "id": "55ur1Syy4x4J"
      }
    },
    {
      "cell_type": "code",
      "source": [
        "# copy im into im3 and, using loops, erase (draw in black) the region [120 - 512][360-820]\n",
        "# TODO\n",
        "im3 = im.copy()\n",
        "\n",
        "tic()\n",
        "\n",
        "for i in range(120,512):\n",
        "  for j in range(360,820):\n",
        "    im3[i,j] = 0\n",
        "\n",
        "imdisp.imshow(im3)\n",
        "\n",
        "print(\"elapsed time 1 : \", toc())"
      ],
      "metadata": {
        "id": "1WuiOLMyDYKF"
      },
      "execution_count": null,
      "outputs": []
    },
    {
      "cell_type": "code",
      "source": [
        "# copy im into im4 and, using slicing, erase (draw in black) the region [120 - 512][360-820]\n",
        "im4 = im.copy()\n",
        "\n",
        "tic()\n",
        "\n",
        "im4[120:512,360:820] = 0\n",
        "\n",
        "imdisp.imshow(im4)\n",
        "\n",
        "print(\"elapsed time 2 : \", toc())"
      ],
      "metadata": {
        "id": "RciqtxZjE42z"
      },
      "execution_count": null,
      "outputs": []
    },
    {
      "cell_type": "code",
      "execution_count": null,
      "metadata": {
        "id": "P0V4TNk9GNuq"
      },
      "outputs": [],
      "source": [
        "plt.rcParams['figure.figsize'] = [10, 8] # set figure size\n",
        "\n",
        "#To ask the students what are those histograms? (Maybe hide the title)\n",
        "\n",
        "plt.subplot(1,3,1)\n",
        "plt.hist(im.ravel(),bins='auto')\n",
        "plt.title(\"Initial im\")\n",
        "\n",
        "plt.subplot(1,3,2)\n",
        "plt.hist(im2.ravel(),bins='auto')\n",
        "plt.title(\"im x2\")\n",
        "\n",
        "plt.subplot(1,3,3)\n",
        "plt.hist(im4.ravel(),bins='auto')\n",
        "plt.title(\"im partially hidden\")\n"
      ]
    },
    {
      "cell_type": "markdown",
      "metadata": {
        "id": "bsZYoKrFA4k0"
      },
      "source": [
        "#Exercice 1 : Dessine moi une image ...\n",
        "\n",
        "---\n",
        "\n",
        "\n"
      ]
    },
    {
      "cell_type": "markdown",
      "source": [
        "### Importation des différents modules python"
      ],
      "metadata": {
        "id": "ftbkB5f5eFDD"
      }
    },
    {
      "cell_type": "code",
      "source": [
        "import numpy as np\n",
        "import iptools.imdisplaytools as imdisplay\n",
        "import matplotlib.pyplot as plt\n",
        "import numpy as np\n",
        "\n",
        "import scipy.misc as misc\n",
        "import matplotlib.pyplot as plt\n",
        "import iptools.imdisplaytools as imdisp\n",
        "import skimage.color as color\n",
        "import iptools.imtools as imtools\n",
        "import numpy as np"
      ],
      "metadata": {
        "id": "RjAz23iiexYf"
      },
      "execution_count": null,
      "outputs": []
    },
    {
      "cell_type": "markdown",
      "source": [
        "### a) Image de taille 11x11, type uint8 et grise."
      ],
      "metadata": {
        "id": "5c2ckaTDhNyE"
      }
    },
    {
      "cell_type": "code",
      "execution_count": null,
      "metadata": {
        "id": "wW2P-Hnj_PRI"
      },
      "outputs": [],
      "source": [
        "# a) Image de taille 11x11, type uint8 et grise.\n",
        "\n"
      ]
    },
    {
      "cell_type": "markdown",
      "source": [
        "### b) Créer un damier (sans utiliser de boucle)\n",
        "See \"aide mémoire\" page 7 for crossing the image with a certain step.\n",
        "Don't forget to use np.reshape to reshape the image then in 2D."
      ],
      "metadata": {
        "id": "Norr8kixh2lU"
      }
    },
    {
      "cell_type": "code",
      "source": [],
      "metadata": {
        "id": "7FpeJ27eVfOy"
      },
      "execution_count": null,
      "outputs": []
    },
    {
      "cell_type": "markdown",
      "source": [
        "###c) Création d'un dégradé sur l'image"
      ],
      "metadata": {
        "id": "AJts1GjulP8B"
      }
    },
    {
      "cell_type": "code",
      "source": [
        "# Help\n",
        "# Create a step which will be applied on each row.\n",
        "# Use for loop."
      ],
      "metadata": {
        "id": "StCSoEihln8C"
      },
      "execution_count": null,
      "outputs": []
    },
    {
      "cell_type": "code",
      "execution_count": 3,
      "metadata": {
        "id": "s8yS4VytDQP8"
      },
      "outputs": [],
      "source": []
    },
    {
      "cell_type": "markdown",
      "metadata": {
        "id": "IWBNlOAMYdn3"
      },
      "source": [
        "# Exercice 2 : CHARGEEEZ !!!"
      ]
    },
    {
      "cell_type": "markdown",
      "source": [
        "### Importation des différents modules python\n",
        "\n"
      ],
      "metadata": {
        "id": "xn61scBRm81R"
      }
    },
    {
      "cell_type": "code",
      "execution_count": null,
      "metadata": {
        "id": "aBCyKQakE0AN"
      },
      "outputs": [],
      "source": [
        "import numpy as np\n",
        "import scipy.misc as misc\n",
        "import iptools.imdisplaytools as imdisp\n",
        "from iptools.tictoc import *\n",
        "import matplotlib.pyplot as plt"
      ]
    },
    {
      "cell_type": "markdown",
      "metadata": {
        "id": "Ei88rCzkYpej"
      },
      "source": [
        "a)  Quelle est la taille de l’image, le nombre de dimensions ? Pourquoi ?\n",
        "\n",
        "***\n",
        "Ouvrez l'image en utilisant les modules suivantes:\n",
        "\n",
        "import imageio.v3 as iio\n",
        "\n",
        "imHeart = iio.imread('HeartDTI.png')\n",
        "***\n"
      ]
    },
    {
      "cell_type": "code",
      "execution_count": null,
      "metadata": {
        "colab": {
          "base_uri": "https://localhost:8080/"
        },
        "id": "RkSvFdXNIJis",
        "outputId": "c6e9f1dd-dd1b-4aff-e4f4-9c01d90a95e6"
      },
      "outputs": [
        {
          "output_type": "stream",
          "name": "stdout",
          "text": [
            "(512, 360, 3)\n"
          ]
        }
      ],
      "source": [
        "# read image\n",
        "# im1 = misc.imread(\"HeartDTI.png\") #Ne fonctionne pas attention\n",
        "\n"
      ]
    },
    {
      "cell_type": "markdown",
      "metadata": {
        "id": "q8Vvnzs9ZP98"
      },
      "source": [
        "b) Affichez sur une même figure à 4 images l’image couleur puis les 3 composantes couleurs séparées (la luminance seulement en niveau de gris)\n"
      ]
    },
    {
      "cell_type": "code",
      "execution_count": 3,
      "metadata": {
        "id": "TFluIRrlKEb1"
      },
      "outputs": [],
      "source": [
        "\n"
      ]
    },
    {
      "cell_type": "markdown",
      "source": [
        "### Affichage de la luminance"
      ],
      "metadata": {
        "id": "RDQftKG6ttHQ"
      }
    },
    {
      "cell_type": "code",
      "source": [
        "#Equation de la luminance:\n",
        "# Y = 0,299 R + 0,587 G + 0,114 B.\n",
        "\n"
      ],
      "metadata": {
        "id": "tqUn11ACtwqs"
      },
      "execution_count": 4,
      "outputs": []
    },
    {
      "cell_type": "markdown",
      "metadata": {
        "id": "3BMoTCamZeV9"
      },
      "source": [
        "c) Comptez le nombre de pixels « blancs » de l’image (des boucles peut-être ?)"
      ]
    },
    {
      "cell_type": "code",
      "execution_count": 4,
      "metadata": {
        "id": "AQVw79yKNygJ"
      },
      "outputs": [],
      "source": []
    },
    {
      "cell_type": "markdown",
      "metadata": {
        "id": "4i0IdGUfZqWd"
      },
      "source": [
        "d) Proposez une autre méthode plus rapide – sans utiliser de\n",
        "boucle – (du slicing peut-être) pour accélérer ce calcul. Comparez les temps d’exécution avec l’outils « tic() toc() »."
      ]
    },
    {
      "cell_type": "code",
      "source": [],
      "metadata": {
        "id": "vZY42q74rMNh"
      },
      "execution_count": 4,
      "outputs": []
    },
    {
      "cell_type": "code",
      "execution_count": 4,
      "metadata": {
        "id": "efbIazkKOEQc"
      },
      "outputs": [],
      "source": []
    },
    {
      "cell_type": "markdown",
      "metadata": {
        "id": "04akusnHZ0JI"
      },
      "source": [
        "### e) Affichez maintenant cette image RGB en ne conservant que les valeurs de la composante rouge OU verte OU bleue (mettre les autres composantes à 0)"
      ]
    },
    {
      "cell_type": "code",
      "execution_count": 4,
      "metadata": {
        "id": "vdZgOM6ALDoV"
      },
      "outputs": [],
      "source": []
    },
    {
      "cell_type": "markdown",
      "metadata": {
        "id": "sRC9vm0CCkrg"
      },
      "source": [
        "#Exercice3: RGB2Gray\n",
        "\n",
        "a) Tentez, par quelques recherches, de trouver une pondération courante.\n",
        "Expliquez la différence d’importance donnée à chaque composante.\n",
        "\n",
        "https://www.dynamsoft.com/blog/insights/image-processing/image-processing-101-color-space-conversion/\n",
        "\n",
        "Average Method\n",
        "The Average method takes the average value of R, G, and B as the grayscale value.\n",
        "\n",
        "Grayscale = (R + G + B ) / 3.\n",
        "\n",
        "Theoretically, the formula is 100% correct. But when writing code, you may encounter uint8 overflow error — the sum of R, G, and B is greater than 255. To avoid the exception, R, G, and B should be calculated respectively.\n",
        "\n",
        "Grayscale = R / 3 + G / 3 + B / 3.\n",
        "\n",
        "The average method is simple but doesn’t work as well as expected. **The reason being that human eyeballs react differently to RGB. Eyes are most sensitive to green light, less sensitive to red light, and the least sensitive to blue light**. Therefore, the three colors should have different weights in the distribution. That brings us to the weighted method.\n",
        "\n",
        "The weighted method, also called luminosity method, weighs red, green and blue according to their wavelengths. The improved formula is as follows:\n",
        "\n",
        "Grayscale  = 0.299R + 0.587G + 0.114B"
      ]
    },
    {
      "cell_type": "markdown",
      "source": [
        "### Importation des différents modules python\n"
      ],
      "metadata": {
        "id": "kyJ-BwIEDa5E"
      }
    },
    {
      "cell_type": "code",
      "execution_count": null,
      "metadata": {
        "id": "LmRg7QUvCfpm"
      },
      "outputs": [],
      "source": [
        "import scipy.misc as misc\n",
        "import matplotlib.pyplot as plt\n",
        "import iptools.imdisplaytools as imdisp\n",
        "import skimage.color as color\n",
        "import iptools.imtools as imtools\n",
        "import numpy as np"
      ]
    },
    {
      "cell_type": "markdown",
      "metadata": {
        "id": "8mTmLf0-ay00"
      },
      "source": [
        "b) & c)"
      ]
    },
    {
      "cell_type": "code",
      "execution_count": null,
      "metadata": {
        "id": "yJfsB9JmCsGJ"
      },
      "outputs": [],
      "source": [
        "def myRGB2Gray(img):\n",
        "    \"\"\"Convert RGB image to Grayscale : using matrix global operations\"\"\"\n",
        "\n",
        "    #grayimg=\n",
        "\n",
        "\n",
        "\n",
        "\n",
        "    return grayimg.astype('uint8')"
      ]
    },
    {
      "cell_type": "code",
      "execution_count": 4,
      "metadata": {
        "id": "4s36c8yOCej0"
      },
      "outputs": [],
      "source": [
        "\n"
      ]
    },
    {
      "cell_type": "markdown",
      "metadata": {
        "id": "56rnkIL-bKAO"
      },
      "source": [
        "d) Essayez donc cette fonction préexistante. Quel est le type de imHeartGray3 ? Pourquoi ?\n",
        "![image.png](data:image/png;base64,iVBORw0KGgoAAAANSUhEUgAAA7UAAAB1CAYAAACRWcYcAAAAAXNSR0IArs4c6QAAAARnQU1BAACxjwv8YQUAAAAJcEhZcwAADsMAAA7DAcdvqGQAAEx1SURBVHhe7d0HQBNn/wfwbzZ7owwFVAREVNyjWlute1vtsHbvvd72/b8d2lo7tbXD2tpqW+uoe9aJe+JGUARRNrI3JCHJ3f2fCwllhI0D+/u0J8kll1vPJc/3nhsSgUE9xLeY31b5cXUN+ChCCCGEEEIIIXcwiURielSV2N/8WuXHzVVnqI1NLcDfp1LB8+wtxv//+Uv5lRBCCCGEEEJIbayVUjxxX0co5VJjgJVKq/41h9rmhttaQ63Ye9HfMQg7nw5HW4WpLyGEEEIIIYQQUrfCUr3x77tTOqOrj4MxuMpkMmOgFf+an7dEsK0z1P64LQaHL2Zi7Xv3mPoSQgghhBBCCCF1OxWbg8/WROLV0e3QpZ2dMcDK5XJjJz5WKBQVIVcMtM0JtVLT3xrEUFtL3iWEEEIIIYQQQuql1mhQUlJi7EpLS6Fhz3U6HfR6PTiOA8/zzc6dtYbachRqCSGEEEIIIYQ0jZoFWXOoVavV0Gq1xlBrMBhaJNCKLIZacystNdQSQgghhBBCCGkqDQuxlQNt5VBbuaW2OeG2zpZa9tGmR4QQQgghhBBCSONoNRrjYceVW2nFQ49vSkutOAJqqiWEEEIIIYQQ0lQ6FmDLysoqOnOgNbfSmrsb1lJLCCGEEEIIIYQ0FccCrDnImrvKgbYlUKglhBBCCCGEEHJDcCy4iiG2+vmzLXHYsVk959QSQgghhBBCCCFNI5haZM2nuFYOteauuWoNtS3x4YQQQgghhBBC/r3EVFk9xFbPmtWfN9atOfyY10FTUgKN3vSckAoCDFodtGWc6TkhhBBCCCGktTMH1+YGWEtuSajlri3HK5OnYvbuQlMf0roZUHAtDVcupCA2Mgt5ZabeTcHl4/AXazH/p3ioTb1IK1dWgtSLqeXlw9ilIjWXdlqQcvrcbFxlZaK8bIjfIdkoMJheJIQQQghpALpQ1G1Mr9OhZa4HdoPpc3B65Qls+eMY1v90FtH5rWKqyU3CJcVhxzKxfJzAVtZt+vkQ9kfp6Jx9wnC4fugUtrLyIZaNrew7ZN1PEYhTU+kghBBCSMPdmlBr0x7d+vVFUBuFqQepQXcCCx7/EH/ntYKAqPDAiFnT8M5XdyHETmLq2UQSBVw7e6OTnw1kpl6kdZMF9MRz86bjnQUPsG4qxnWTo5mlhNwxZPCdOg5vfWMqH1/0R2cllQ5CCCGENM4tCbUy75F447NP8VQ/G1MfUgOvQ5m2DLp/23nHUnv0eORePDzZGypTL0IIIYQQQgipDR1+TAghhBBCCCGk1ZIIFi4/Jd4/yGAwYNH2WBy/nIu1791jeqXpuLRDWL7+LPIqrg8jQ/thT2N6qJ3peVW6q7vwx9/RKIELek8aDO3fP2PVwatQO4Vg/Etv4dGeMlza+BMWbzyJFL0ruk96BW/PCIWTGNM1Mdi+bBdi1TygDMC458ejQ/YJrF2+HgfPxyNDLYG9qzcC+g3HpClj0ctDWT5SSzTJOLpxLbYfuYCr6QXQKRzg0bE7Bo2ZjvuHdoSdxd0CHNIOL8f6M3nsEaMKxLjnxiFQAZTE78faFZtw4EIqypy7YtQTL+GxwV4oPxCbR97ZDVh1OAU6QybO74uHy9CB8K3eZClzRq+pj+Ge9i1/gK4h+zpOh11BNFvveYV68EoVnLzboss9XdBJl4mSTgEIdKtlX4g+BVveuwTXt0disIf4Hg4Zxy/gbLwOxlImYZPu2g6DRrWDY+WP4IsQ/XcM4ovY+jKVRqmHH4aN8IBV+dOq9HmI2BqHVDVgFxyIoLI4hO1MQoZWhfZ398H4cR6Qxsdgz/oYxGVwsA8IxOhHQ+BnX/OwRl1OFmLPpSI+LhvXU4pQyMqMwsEeXl39MXicP9o71DKvbN6KYq7gSFg8riWVQCMo4ciWU9dhIRgYao3r+84j8jqbH6mSTVMP9Ki2rnRZqTizJw6XY/OQV2RgZcQKLr4e6HJ3MPp0s0cdJbKZBFakExC+Nx5XrhagsJSDzMYW7p280WN4EPx1KYiR+KJXgMriIcK69GScDLuKmCt5yC9mw9raoW3n9ug5IgjB7ZQNOKzYgKhFGxARPBEz77Fu2GHI2kLE7I/GufOZyMgpg0GmhFO7tgi8qwv693aGlcVVxLalc1EIj9aAF8uU0hW97u8MLzn7uNREnNgRg4tXimFwcEOPCX0wtKd9ix7ursmIwvHDJ3A28iJirqYiq8QAK2dvBPYdg4cfHYcQ57rGpkP6qS1Yu/UQzl1JRS4rkypHD3TsMQSTpvWBNiIPIZPugscNOD5fKM1DVNhlXIjKQlauDpxcCQdPdwQMDEL/EAMuR0gQPLgtbCws8+aXDaYsAWvevYaOnwxHX4cGDdGE8d7askEIIYT8W5yKzcFnayIxqE0WvO05qFQq2NnZwd7eHg4ODsZOfG5lZQWFQgG5XA6ptLa6d91kHzGmxxXEnCsG29NxuUjJ0WD6ED/TK00n5MfhZEQySnR66A16pEccQKrXBIzsYmuxsqPPvITwqFhEHjqCUyf2IrykOx58ahr620ZjzW/HkZO5A0vCeAyZ+TgmdudxasVKXPZiYcrPCpKydESFRyOjOBlnDufD2z8ei95fglinfhg9cTImjhqCHr7WyD2zCUv+PIDiDgPRu51NjenQp+zF1//5ECuvOaLXfeMwYcJo3Ns3AC76a9i/Yim2XnVCz/4BcGaVoaoEFMSdQkRSEXSlSTh9pBjB0/qB3/0V3v1kI6573o2pD03CYM9M7Px5HbJ7jEVvd7HaJKA06Rxb7nkoMxQjM6kASg93WAsG404Gc8dxCrTt2hudjAm+5XCp0Vg57zSSrNoiZHBn9BrSCSEh7nBRlOLqrnM4dDITfKdgBHvWMl4WTmP3ZcNmUCf4GM+t5VF4LRHnDsYjjgU8OxclZCoH+AY6wqrywua1SL+YiRw1B87Aw5CTiUuZ9ug9wA0qS4XDUIoUVum+HpeMmIupiIzUwWdUKAZ0UyJ1zwXEFpTi/MYECL1CMHRoWwiXLuJIvD2693RCldP19Nex68ujuFAgh0sHT3QZ4I/eA33RsZ0K6svR2HtQDY9+XnCpcY6fHmm7D2L5ijTAvxP6DQ9EaK82cBYKELXtAiLVjlBdiUBkoR0cVFLY+XnCq2Jdccg7fQorFkYh3ZaF4Ls6o/ddHRAU6AQrdQ4L62y4PHv4d2XPW3b1MnoWto9g+e8JKPNuh+7iOh7kh87+DlAWZ+L0pihcuJyBVIknegfbVjuMg0PuyXAsX3QRmXYe6DYkAH3YsJ3YdsSlJuDIpivIsG+Lzux53QGAR9bpy8hwD0R3P0W9QYfLSMC2BQdxNNUKHfqzZTXUH127usJen4+oHRE4k8L6h7jC1sI2WJp8HYnpOhg0hbh6vgzt7vOCcOIEVv4agzw3H/QfGYAgt1JErL+MogB/dHRuoQWuO4OFr8zF7lxreHfpi6Ejx2D8qKHo1ckBRWfX4ZctmfAf1hfeFgu3HtfW/h9e/+ECbEKHYcz48Rg3ahgGdPWCIuskVv+8HHsjeHSdfjd8Wzhp6ZJisP6bY4jSOiNwINsWBndC127ucFVpkXTgPA6HZyA+nhX5u71QdV9PS5UNhivApbB8OA/rWMvyqayp472FZYMQQgj5F0nLVePIpUy0ty1ldWLBGFqVSqUx3Jo78bnYXyaTGQOtRFLf738txJba6jiOE8rKyoQFGyOF6Z8eMPVtSRph/0cThTc2ZAmcqY9Fukjhx5nDhXGv/ClcVpv6cTnClv+MFIbd/4GwPdVg6mkQ4n57Vpgy97BQZuoj4vK2CP8ZNU6YMHGmMHd3UpXXjLhCIerPN4TJk/5P2Jpm/iyT4nPCwicmCE98tU9IrjEgm7T0w8KCZ8YLj8w7LuTXMRNc5jrhjYnvCD8ufk2YMvU1YfHxdEFneo29KhQlxwsZFj5f0BwU5kx+XViXUecSakEGIWHVJuH75Wls7dTEFyYKG95ZI6w/W205VaZLFjb/Z6dwJN00zboC4cIfW4X5s48JEdf15f0aQHfqkPDlvMtCYZ2zbhCS1mwS5ry6UzgUb16ivFB0IEyY++w6YfWRooqyxSWfF35+64gQ/c+Cr5+hQDj21Wrhj7Bi9qmV8ULJ+WPCt6/vFPbFaKq9xgbLjBc2vr9W+OLVlcJfx2vOc9mVs8LPb2wT/j5bzOagJn1mgrB19lrh1605QsOXWEOw6T7HpvvNXcKBOG2N6Rbp0mKFv/6zQvhhXVaNadNcPi38+NpWYcvJQgvTZRDyz4YLP7+2SdgaUXOZVKUXIn9cLfx5QF3P+5jSdGHXrNXCj3/ECzkW1p0hO0n4++PVwvfLUoSSOsoKnxst/PHGXmHX+l3CvLd3CWERlZc9L6jT84WCxpSN5jAkCatfnyC8sS7d8nef7rzw3SMzhW9OF5t6VMYJuQfmCtMmfiIcsvSd0Qx8YZKw+f/WCr9tyRTUliZMmy+cWbhOmPPBGSGlWgFoubLBaOOF1a+FCacK631ni4z3tiobhBBCyB3mZEy2MOnjfcKXP/0lrFixQli3bp2wc+dO4ejRo0JkZKSQmJgo5OTkCCUlJcbsKWbQprr9dz9LPTHqmQcRZG1+bg8XF3sETHoao7zN+98lcHayh8HSLXB4LVzHvIu3R/rUPKRT6oCQRz7ASz3isHbjJehMvcUWgKStvyHMYQZmvzEM7S0cC6rwGIJXZz2BtkeWYmNcPffcVJ/GtuNeeHHBPDw30MN0qLFICvv2HdD2xh1r2ggSKFQyaK5nIaOw5hWXJQ7eGDA5BF19Grb3RChMx4Hv9uJgSSc8+M5A9PCs0ZTWAiRwGtgTgzqYl6gE1o7WsPINwLBB9hUtjRJ7K1gbOBhqzlbtZHbwbq9Cab6mapnii3B+Vyqcxg/CPYFWNVoaZW06YNyjfrApq3FUPxu2BBHbrkExcjDG9LKz2Golb+OHsc92gfTIRUQXW/iMpuLycervVDiz6b7b3/KhxQovfwwd2gbOjtUO2eQLcWZzPKzHDMG4fg6ouSZlcOrVF9Mm2uLylhikt8gtaHlkH4pApG0Ipj/SAa7/bDQVZG4+GPNcdziej8CplHpWruY6zl6wx8j/3If7elRe9qzMeDjB0cLn3xAyTwT5O6IgO5d9y1ggZWVVWYTEqKuVTtUwk8JlwDQ8PfMeBNTb5NkYPDIPRCHWvRsmj28Da0u/Cion9JwQAB83tn1Vfv2WlA2mJcd7u5QNQgghhDTZ7R9qJXIoFDWr4HJFA2saMn8MGxNs+dxMkdQVQ0b1hTbiNBLMFR8uC+En0xA6aTz86hiNrP0oTOyTj5PhyaY+tbDqixfnv4MRPrdFeq2FFF7DeiBYfRnL/m8dvv9kN1YsOoptayNw/EgyUnIEeA0KRlBt59NWEKC/fgXr5x1DQocBePLFYLSzbVgQbjwJZAppzYAml1WqmNaD1yE3+iqObjiJLUsOY93iI9iy4gwO7rmGpDyezU3VYCmUZCIh3RUh/f4JzdUp/Tsg2HhOcTWaTFxLtEZbx2LEXUhBbC3d1WwbtLXLxtX6dpY0Ap99HfH5bdFzQO3TLZYBz/Ej8MgIxyrv4XPTEJftgb53O9WxXKVwHRiATkXsvRmN2XtQC74UcVHF8LunM9zr2B8i9eiEPsFaxEUWmvrUQuWJkW8NRPcbcSKqJXwJUs7sxKpfvsVXn87BRx/PxZcLfsIfa3chMlNfo1xVkAVgypNDUbzuLTw09RE899q7+PDTr7Ho9zXYfvQSMoRAjJ4+uGXPp+WLcTVaDb+7OqKuo2ylPt3x+OvBqPwVcEvKBtOi473ZZYMQQgghLa6OKswdQuaGtm3qrqwo2rSBc3EeCswZgs9EVp4bfHzMzcO1sUb79m7Iz8o0Pa+FzA4Olq8odVuROPlg/PsT8dRTPdA9wAFWvAZZlxNwdNUh/PbBZixZlYg8g+nNteHzcHzFNZQ5yFCarYa25XJZi+PzUxE2fysWLYzAxUQtBCsr2DtZQcGXISv6GiJiNDWih1CshVZlAwfrOoK6xAb2Fi5yw5dqodEXImrdCWz9o45u2RlE5wP60pa7nxOfX4pSJ0e4NuE+SUJeKUqcHOBW37AqB7g6aVGY1wItzLwahUU2cPOor4VfDte21ijNU5ue10KqhHVd66wFcdknsPiNx/HU+0uxPzYfvLUT3NycYMUVIIEF3V3n82oeUVJBCrchb+HnP37A/x4fge7t7dgmFY9zYavw3axXMHPGS/juQBpa9E5fHFvWxdYNWNY13ZKywbToeG9i2SCEEELIjXHnh1ouD9nZdScrfXY2CmwdUZFDpNawVmlQUlJfIuNRWqqBioWhO4bCFu37BuGeBwdi2isj8PTsKXj326l46rGOUJwPx8bdrJJueqtFUjv0em4EHnlzGO7CJfz16xVklpleu52wgBH+6zFcsg7Co59NxQtvD8Xkmf0w+sG+GPvYXXjgjZGYdJddjVZgiZ0KVmUasGxbO4G9buHQYamtCtYKNwz9YDreWfBAPd00PDikvp0qDSeRyyAVL9LWhEwhUcmhKNNBW18jm6BHWZkMipY4IEEih1Khh1ZT3wQLKNMYIFc2PpDdEFwC1s/9Agfs7se8lWuw5OuP8X9vvYZXXn4Fr//nf/j4q+/w39Ee9X7xKtt0xb1Tn8Ar78zCp1//iCWrtmDr6h/wzkgVjs7/FKuvteDeIokMchkHnaVD5utxS8oGc6vGSwghhJDb078g1MbhQNiVSufLVsPn43jYaci79UbFqZkyH3Tx1+LcidjahxPpruLE2WJ0DO5k6tGKaXMQeSQDxZYqiSoWdAf1xoMPeqMwIgW5dVYkVbB3kkOicESvp+/FEFk0Vv8Sg4zbLNjyqQmIzGmH0U+HwK8RV5GW2LWFb5scRLP1XttiMCQkIsbS4Y7WbeDbLh/RJwvr3jFwA8g8neFWnIWEJhz+KfV0g0dZBq4k1R2kDCmpiC91Rrt2LXAYp8wB7XwMiL+QizoPDtDn48plHdp2dDL1uLW4q/sRlj4Ar7w3A6FujV8OmpgwbD+fa7F8WLUJwagXP8HLA7Jw/HiK5XNym0LuiLYeWiTHFDW6XN6SssHcqvESQggh5PZ054daqRIZW7/C94czLFQC1Yjd+AUWnfXD9Gmhlc67tUbfSaOh2LUQf1yoLbyU4NKqhdjODceUQfamfi1IKodCpoVaXVvrCQeNps7I3Sh8ThrC113ClVovTiRAX2aAoFI0/B6qLNj2fHoYhqpisPqnaFyvq3XzJhN0HAxKJawtzowATfwVnDhfWvPMRxkL66O8kL31BI7H11z+fF4Kdi2PR7GF88DFi5yFjvBBcdhJHEuo6wBSAdr0LFwvqDticNkpOLBkH/789jD2niqsO/zZtUNoDy3ObIhDTh1vNIifuSwCV0oqzbnKC30HSRGx+gKSSmspH+psHF0dB75/EAJtTf2aRYFO93SC/PhpHLxSVnM9GOmQsvM0znF+6BfahOOqbwBep4XOyh4OFieHR3H0Fqw9mlXLdwqH9PD1+GnNCdS66vkyaMp4WFk38B6/DaJC4KB2KD10DmfruqKSvhgxW07gwIVK6+OWlA3mVo2XEEIIIbelm3OfWq4QafFJSM/ORW6u2OXg6skwXLPqgc52JaZ+ucgvlcDWyab8Spa6fKTEX8bpAxHQdewOXxdHOFqLe9s5JB9dj3NCV3Rt5wRHexVL5iyExIRh0zUH9O7cFvbOtsYrDAvaWOz9W4KJr/vhxDeLsCtBPO9OQFlJNpIuHsGWX+fjxz0cRv5vNmZ2rXq/XJl7MAKlR7F4wWbEK9uhc0cv2JmOcNRlXcC2RZ9i/h4Fps16B6O8ql1Nii9BRkIC0rLYfGXG4OjBDLj39oEi3zz/bF6LediYptMiiQp551ZhY6QtevQNgKv5no26PFw9tQfrfvkKn6/Jw8OTepf3byahKBNnD1xDzDUd7Lxd4O6s+GePB6dF+qkIbFqfAc/xfRDarvr9RXlosvORnVWAa6cK4HCX+T61jFQF904O0ISfQdgZA1w8FDAYZLCruLEoD3UWGzZbjeICTXmXkobIFDl8fZTQFpr6FbEQaGUFlXEwDqUZ+Ui7lIhEnTN8PK1gY1c+vXxGCk5eFtC+oz1sWNkwZkuxFfpAAWyCXeBoYwUr9hlSNn3ZByMRrXFFJ387qEwzq8vNQtTOk9i04Tp4VhHW27iivYsEvJINZ/wwCZQebeGlS8TuVTFILmFlRcJDm1+AxFOXWKC9hIIefdFHcR1F7YIR0r7yfiMJFG3bwKMsAbvXXEWOwh5tvexgLTctK16PouTrOL/9FDavvgaNXycE1nrVaD1iVu3BTra8C7ILkXKpFC5DO8Cj1j0Ocrh2sEPu3tM4EKmHPVvHbo5y03oU2OaWi8v7zmHrn5eQ2aYTBvRxrnQVXCkcOrpCcv4cth/Ih7ytC9q6K00X6OFQeCUOe5acwAVFF0x7vBNcKk+yQYvc1EIU5JvWY4EaGVEJyLL2gIeVrmKdl2oksLKvVOYYqbM7vCQpCFsZiyyFAzy97Y3rTmTIY+V17VFsDZdhwHMDEWq8z3MlvA4FaQXIy2Ofz75vYs6WwqGLI2RF5unQoISFIZWDeT5ahsxBhsQtf+JQaSD6dvOAjWmGNJkXsW/VN/hs8RnwDgK0doHo6i4FZ+UIu4r7IAvIi/gbm3cewcUSZ3Tw94W78TuvHFcQh31LPsPPEQF47JXR6GhjHq75FG3d4MS+q3ZsTYPOyQkeHtZQmKZdKFPj+vnL2LssHEdTHBB6ny/aVlz8rRllg+GKi5CVUYIi0zopLshDXHg+rIJcoCo19SvUokyihE2Vyy43Y7y3qGwQQggh/zY38z61EvG+PqbHFcRAazAYsGh7LI5fzsXa9+4xvdI0uhPzMOODHfUctsomxqYf3lz2OSa4SVG0lwXNzw+bDodlFZjhs/DXB0NhAx2Ofv4AZu0phNRrCub9/hp6KnnkbnoHD31/DgZVCJ775Vs87CMDn78V/33iHMas+QgD0w9i9arNOHD+KjIKdVA6eSOg9zBMnTENg2u9IJQWSfuW4NtftiGyyJZV9Jyh1BcgI70Ydl3H4uk3nsfojjWH5WJ/w/OvLse1uhrjVF3x7OLvMMO39moTl7Yf3835FjuS5fDwdIHSUIzcjGyUKj0RMng0ptU57Y3DZ8fgr18L0KFbGSL2pqJQYQtHBxYyOD1K80qgVjijx5SBGD2ETYdpmAr669j+wX6cES/GInPD8I9GYXDF1X/1uLx0M9aFaytad6QunfHhlwPKn+hTsfV/B3G+sJbWFjOJAv4zJ+KRu22A0gRWJo/hsqkVW2Lnh2mfD0GwFQs7549hwU/xUEvt0O+NiRgTJINQEIPl/yde3VqG9vePw1OjHdlQAjRxl7BxSSQSyqzh4iwHr9agsJCDfaA/7p4aAufw3Vi2t5i9U4q240bjucmulUKXgQWQyzgUFo9rSSXQQAFHbw90HdYNQ/raIOr7TYjrPw0PDbQUSvXICr+AXVvikFjAyrabDQvVHDT5pSjWK9CmSwf0HROCXp2tK42vOg6pm3bgjx0F7BFbpu6BmDm7HzrU02DJF6Tj2F9ncCyiEHC0g6OtDIZSNQoLDLDyaY/eo7tjUB8nWPyYskJEbT6JvYeyoLG2g5O9DFxJCfJLFWg/uCfG3t8JbaudXq47exTfLU5ArQccmFm3w8S596BnjQtsGZB98jx2bIxDEhuPk6sV5IYyFOSUwaqTP4bN6GXcyVIdnxiBX76MQmZdzddKdwz/YCQGe9a+lBuPR3HUasyduwzntS7wdrdmyygXWTl6uPYci0efmQHPsFfxlrjTRGyNfvQHLH4qsCKMpW98D58k9EL/ol3YcCITCve2cGbriFMXsPBXCGWnkXjmnVcwzr/lzreuwKsRv+s0du1KQS6s4eSigowt62L2g6S3cUHg3SG4ZxQL2pYuIdCEsiFuB9FLNmH9ydpa4v+h6jEQr7zkjxrX22vCeG9d2SCEEEL+XU7F5uCzNZEY1CYL3vacMcTa2dnB3t4eDg4Oxk58bmVlBYVCYQy3YrBtipsSam+VyqF2mKWKWENxRUiOuoDYtALo5A7wDOiBbh2cam9lbUl8CdIuRSA6KQ9auR1cvTqhaxffG3rvRKGsFOlxOcjKK4NBIoetmzPa+TvD/qbM8E2mV+N6TCYy8vSQ2tjArUNbeLtVb4luJF6DM99twdUBtYVaE16H/IQspGWooeXlsHG2h2dHVzibm/fqw2uRcSEVqSUKeHZrD+8GnxssQJebi6T4QhSpecjYfLv6usG7jXjUQ/340kIkx+Yir4SDzNaObQ9t0IaFiRuKK0PO1Uxcz9LCIFPB2bctfLytbt+WNF0OYs9dwNUsNWR2bvAJDkWQR107KarjocmKQ1R0ArKKdJBYO7Gy0RUhnVwbfvh/EwnaUlyPy0Z2vg6cTAkHDxe083NApUbjWt2SssHcqvESQgghpHYUaltIi4VaQhpDn4GdHx+D/sHJmNiNKtaEEEIIIeTf52aG2qYNRQixjNfg2qazuMB7I7gzBVpCCCGEEEJutDsz1OoScHDV7/h9dTiulyXh0J9LsXTpUvy2Yi/iNKb3ENJMhutJOLolAvs3nTd2e9ecwOrP/saaM1a4+9ne8KejAwghhBBCCLnh7sxQq81GQsxl45V8PUNcUXrlMi5fjkFMTDyyNPVcrYqQBjIUFuJ6Qg7SEnKRlpiLjIwyWHUJxcz378WgipseE0IIIYQQQm6kO/qcWkIIIYQQQgghNx+dU0sIIYQQQgghhDQAhVpCCCGEEEIIIa0WhVpCCCGEEEIIIa0WhVpCCCGEEEIIIa0WhVpCCCGEEEIIIa0WhVpCCCGEEEIIIa0WhVpCCCGEEEIIIa0WhVpCCCGEEEIIIa0WhVpCCCGEEEIIIa0WhVpCCCGEEEIIIa0WhVpCCCGEEEIIIa0WhVpCCCGEEEIIIa0WhVpCCCGEEEIIIa0WhVpCCCGEEEIIIa0WhVpCCCGEEEIIIa0WhVpCCCGEEEIIIa0WhVpCCCGEEEIIIa0WhVpCCCGEEEIIIa0WhVpCCCGEEEIIIa0WhVpCCCGEEEIIIa0WhVpCCCGEEEIIIa0WhVpCCCGEEEIIIa0WhVpCCCGEEEIIIa0WhVpCCCGEEEIIIa0WhVpCCCGEEEIIIa0WhVpCCCGEEEIIIa0WhVpCCCGEEEIIIa0WhVpCCCGEEEIIIa0WhVpCCCGEEEIIIa0WhVpCCCGEEEIIIa0WhVpCCCGEEEIIIa0WhVpCCCGEEEIIIa0WhVpCCCGEEEIIIa0WhVpCCCGEEEIIIa3WLQq1HASedYLpKSGEEPJvw3Hsfw686SkhhBBCmuaWhFohcxl0v0yCPrbU1IeQW0goBp+0A4bj30G/72voj/8FQ1oGaJ9LC9Fl42rEWZw9a+7O4WouZ3qRNAtXgNJLF5B/IaK8i0xAWTMWLZd1CZmbl+PqT98hZuHPiN+wF/npGtOrpCH4ogykFzVkJehxeekzGDnmA+wuMfUitwVdTjqytaYnhBBCWoU7+vBjgVND0BZA0LBOW1q1ZZjXVHqtGMKdtqtcbAk3PWw8LYSMcHDRm2CI2AxD3Fnwal35S8363NuPkL8P+o1PQ7d/I7hCVouRSyEUnoBhxwus3z5xdkkz6S6uxaezZmP2rFmYxbr3//t/WHqKglLz6VH414c4+8GHiPxoVnn3yQrkmzbVRtGnIevXd3Dypf8hZtk6pO3Zh8x9O5Cy4ntEvvYiLqw826yw/K+hv4pV772EeWFZuJ0WF69To6iwAAUFBSgsLIGu8u8dp0FxxWvF0NxB61lsBW88HaJXvYNX5x9ALjWhE0JIq3FrQq3SA1Lv7pDYyEw9bgA+GdyWB1D2+4Mo+4N1v0+H7lScKZAVg9szo8prZQfD76CwpgN38CnoLxeZnjeUHnzicujWPIqyrd/AEHUAXPxecCc/h27F42wZbYFh3zPQR+ffGcuKTwR3YCl47zehnLkEqjH/hWIoezzme6geeB3SzEXQn792R4X4W0HZ62X8vvVv/L19O7Zv34C3BihNr5DmkUJmYwOpxPS0qfgC5Cyeg5gdsdCLGUDpBGv/LnDw94ZCwZ4b8lCw/ktcXHP5tgpqtx8O6Tt+wdrsAZg2yhP1/7pJYevVBaGhneB6A38KwSVj9ZuTMWnyFEyZMgWTJ0/Gi7/HmtZlMfZ8NB0TK16bhEfmH2e/IHcA3XHMf3QWdhSanjeYEt3unwzP8KVYcZ52vhFCSGtxS0KtxHksFBM+g8LHytTnBpD6QDZuKRTB7SDpOhvKR/6Ask9nlNf/7CEd/hvr9zPk3taQDlwM1ZB+ptfuBDyriJayTt+IQMaBv8zCa1gY0PE1KB/7C6oHWbibuhCqmWuguv91yAw7YLiaBUFfZhqmlZP6QTZhKZQDBkIqVt4rkTjeC/nAuyDE7YNANXlyW5LBbuon6L/4J4SM9Tb1azz+yiYkHExn3xUSyAKmImThUvSb9yV6zvsJAxa+B+9O1uxdWpRsW4WMLGq6qpXmPFaviYTX+Gnob2fqVycZfMa/i6+/egb9xEV8o8h8MP3LP/HJhPZoP/ET/LlqFRY8GmgK3fYY/t6f+GvlUrzQyxq9XvgNS18bwGLdHYDXQlOqRZm+8WVW5j0aDwzVYc/ybUih739CCGkV7ujDjyUqF0iU7Kdbwf46tIGk0t5wicIZUtYPchZlrdzY8zt6UdRLyNsI/fEYSO/6DIq+QyC1qtx0IIPEdQDkwz6G3Eus7tw58V+isK59bhy9ICnLpwuakduYEgp3Dyht5E3cKjloIqPKDzmVd0S7Fx+Fq/s/e3ikbQag42P3wkr8etReQcFlOtHQMh5ZYeuwr6gHxo32a0Ar7c2lsHOFi40MchsXeHi2gUOl1CqzZv28xH5SKB3c4Gz97/4tLGeHPuPug/ulzdh4gco8IYS0BhKBMT2uwPM8DAYDFm2PxfHLuVj73j2mV5pOKDwG7mIEBN48OhaU/B+H3NPG9LwqIXcfDJdj2CMXSLsOAKKXwHAtHoJNMOSDXofMk70n6hfoL55ln+kGacgLUPToCkmVmp0e/ImX2b9vQTkwyEKlrxSGHTPBd1wBZZCtqV81+nTjuaVcApv2wgIIsILEsTOkncZD3qUnJHLT+2oQz0s9BS7pHPiMKxAKslk4UrFhAyHt8iDkgQHVptWMAx+/BlxaPnvMlpU8ELL+IyBl9Qwh9xAM57aCT78OsOUg6/s8ZL4srJcPCEEdAS7iOATOACElDLztvZC5VN/nziq/7SZB1sGz0vLQgDvwLPT6J6EaMbyW6RLxENKPgLcZDJlj5Wpb06e5XFOWFZuW63+zMpHCHotlis2X90TIOrIganyd0cWwce+HYNxTz/padYesNwvsDaqzsXmK+C90SYOgnDC1gcO0BjyKrh7Axg27ceJiArKLDJA5tEGHboMw+v4pCC0+hHDZvRjbzXJTkyb5GDat346jEdeQUaSH3MED/qGDMW7aFNzl05DmJi32fDANB+5ajc/HNKg5i9Eg+dgmrN9+FBHXMlCkl8PBwx+hg8dh2pS7YHm0HNKOrMKmc3nsEWMViPHPjEYnVmzVCQewZsUmHIi8Dr1rV4x+8iXM7N+2ZYIIX4yivZuRmVRaXixFio7wmDkSNlknkbZ1F7IjE6Dj7GETMhTtH5oElzZVDxPgcy8i42/2vgtxUOeVQFCIhwOHos3o+2CdtBe5GaamI4kS1n0nwTvUCSUr38D59UkQ5H3Ref4ECAf3IieSDZ8jDm8PlU8QXAaPgffQQIj7+SrjE3ci9ufd0HWZgS6P9gPLNlXwkT/h1Mc7UcbL4fLiMnQbaW965R+Nn2ZXSJq7rPS5KDp9AnmXrqA4PgHqrHwYdBJI7Zxh7RcCt5ET4dXTo9KeWx666F1IPZYMzjw+iRVsBk6CV4iz8XtDKLiE61uPQq2teAML9n3gPaE3quznq45LwopXn8Vql7ewYs5oONX6fSGWy5WsXOaXl0uRzAfDnpqCbpZ/CqG7FoblO6JRAlf0mTQI6m0/46+D16B2CcHEF9/CQ93Zz+Omn/DLptNINbgjdMrLeGN6NzhUmQY9on9+DvMl72Dx88GodmAKU4Kd/3sIh++ubbvU4vqpv7F+22Gcj0tDvlYCaxdvBPQaionTxqO3R+1tu9rMSwg/Go4zEVGIjU9FVgkPK2dvBPUfixkzRyHQ3tLCaur2yyPv/EasOZIGnSEdZ3YnwO2+QfCrPnkyF/SeOgODvepYqdxV/P78i9ji8x6Wz7oXNUs9IYSQ+pyKzcFnayIxqE0WvO05qFQq2NnZwd7eHg4ODsZOfG5lZQWFQgG5XM7q3LX+iNbp5oXa3D0wnGcB1Dg6gYWYk5D0XAaFqTJRnZCxBYaocPDJ11gYkkBQDYK8Wy8gZxsMcTYslLEfuyR7yHqOgpQ/D8PpM5AO+wkKv8o/yM0LtULRERh2fwvO0BWygAGQurixvqzClhsFPvYgeKvRUIx6BjK7mj+MQtIC6PZFAp7dIfVg4czJnS1tNRv2HLhLx4CAWVAO6G5hmliYivkFhhQWEA3XWchrD8XM1yG5+gP0x08C7cZC1omFvOKjMESkQjr+Oyjcy8cvlJyA4dRBFmpZ4Ms4AcGmL6QO1asvLPz5iEHR959xc6ehX/ULMGIRFB41qzv1a/o0i5q2rNg8Jv0F/ekt4NWekHqyMNuezVeQX8X7BC0L+Sd2gS+NZ6FaD2ngA5DfNQbSOuoxxs9VJ7P5WQ7DhQxIR82DwquW2mZjFYfjl4+XI6KUjcPUqy4SiQ26PzoLLwx0NPVpLg2ubv4cs5fEwv3u0RjasxM8WPkwFGXiWuRR7D1yHVYOpRDu/gq/PGM+PNFMj5S932LWt4fAdRuB0YO7w9dFBX1eIiKP7caeSCnufn0O3hzB1r1pCMsaGWr1Kdj77Sx8e4hDtxGjMbi7L1xUeuQlRuLY7j2IlN6N1+e8iRHtq4+VQ8Kun7DqNPueKEtDRJQP3lzzFtrt/xYfLwqHrPc4jB8aBPuMw1i5JgVDv1qEJwLrLBgNIqRvRMSrf6DKxW8VXeAx3gYF289CW/1kRecBCPz8v/BoK46bg/bU74he+DeKiy0cMskCoVSuA683PRd5TULot09AutYUasXtW26AYDC9XoUUiuCpCHr7Ebi4NHBeNTFI/Hg2kmI1bHBvtPv0e3QKqrysmzrNT8MhpznLSo/8xc8jcldO+WuWSOzh+MhsdLs/oLwsc4lIfPdNJMVXHiF7m+909Pz6UdjLOJT89TbOrY2vun1K3eA5azECetResrnklXj16T9h8/JKfDXZrY5DoMRyuYiVSxZqjT+F2bgUrsSMlfMwycXyUJroTfhpw3FEnrwKzkWCErvBeGRab9jEbcZve20xckgedpyww9iHxyKAO4u//jiNTv9dgncHVf0tbHKo5dJx6IfZmL+vDCH3jcCgbh3gbiOgJPMaLhzZgwNXHDD2f3Pw/ED3mjuGdOGY99jniHDthtDQEHTp1B7uthKos6/hzJ6tOFI2EnO+fhahNb4Kmrr98sg+tgxL96dCx2cj+lganPv3gGeVGZawbcQF/Wa8gFF+dW0HekQtegpv7u6M91fOwr0N+LoihBBS1R0ZaqvSgtv1CLh2S2oNtUbcJejXvAPOeiaU42eUn/coZMGw7SkY8vtCPvkDyI0thixUnXwZOs3TUN3Tt9LnNSPU6tm4t3wM3v1VKAYPqRmE9MngDs+BvngUlBOm1xOUqhLyVkO3OQqyBz+B3Lb2FScUrYduYySkQWpwMQJk97wLuV9b03ywYJSfDNizEFejtZgt3z0zwXkuhqKba+3L10Qo2QT9umjIZr4PWe31tgZp+jRbVt+yEgo2svV0GtIpcyF3sLQStOCPvQq97hko7+1fx7IoYcvsceivibeZYpuEVQ/IR70HmZdTvcuvwVjl8MyuY0hUCw0MtdbwGTgK/bybuVKMeBQc/Rovf52KkXPm4tFu9jUq3pqr6zH73cXIHvMDljwbVKWCWnJuIV6dfQZBYnC9z6faOXc6pO3/Dh8siEbvj37AK73rqv01JtSW4NzCVzH7TJAxuN7nU625RZeG/d99gAXRvfHRD6+gttFy6Wvw1ssRCB6jwe6dPEb/5z08OcjDVLFnyyU5CTqPDmhTe2NTw2njcf3nX5CexMp/fho0hZXTHKNwg+PgoXCUXsT1A7EwCA5o+9/fENRfybaXFYj4aC1KxFPWpXaw7TMErp3dIS29joLwoyjIqHQYpJULbDxcYTPwSQRM6wLtX+ZQa6JwhcOAQXD2Zd+v6gwUnTqGvNTyW6hJOz2A7p/MhGM9DetCSQxSvvoMCVEF7JkEil4voud7o2FdqWA0fZpDoNA1fVmJ3+2FK97ChQ1snpXOsA3sCgd/H1g5KCAUpyH/0EEU5rJkrwqF/8KP4O0mlvZSFK77Bld2REBdII5LBrlHJziPegYBk4MgfiUZrmzBld+2Iz8uAwYxo8udYB0yHJ1eexSuzrV/Vxfu+B8e+iYDUxcuwbNBjfgx0O7FrOm70HvZV7WGWiN9FBY99SZ2OD2OeV89ii7iuuOzsPE/M/Fjcn/857uPMMZbHC+H2CXPYVb+c1j+Tv9K22lTQ60GF5e+gQ+OB+LNua9gqGf1jUSLpN0L8OHiDIydPx8PdWzEd5U+ASvffAMXRv6GLya61rojoMnbr3Y/PnpwO3osnYcpxvXfeJr9H2H6p1cw8us/8FpoS3xBEELIv8vNDLVNG+pmknhBNoCFRvNvpYSFDBsbSLo9VekQWAkk1g6sRmLpmo0sSMV+Cd3q51BWo3sdhvRqFSkjcZgV4GRTLQdakcIHsqHvQmbYAkNi424yKHEMgtQqHwILN/UqOwkukf2AT/ociopwKJJC4tzwcFgnQxkEmZW4GFtGC05zfctK4jQaMr8McBEXLAZFoXg/DNccIQvtU8/s2UF613wox70Ped8xkKriYTi5HnxJ1VadZpF5os+4aZg2fTqmN6CbNm18CwVahovH5uXH4PX4/2GmhUArsvafhMfHBcDdqdoOHi4RW5aEwX7GbLxVI9CKlPAe9gZmz3RE2NLNSGihRcYlbsGSMHvMmP1WzUArUnpj2BuzMdMxDEs3J5h6WiYUhWPzMQ+88O18PFdRIRZJ4eTTQoFWZNURXm98gd4LvkbgPW1MPUVSyAPGImjeQoS+9jg6vDIHPV5/GO0ffQ2+vdjIuQykr9xaHg7lXmj75jfo9b8X0WHaNPg+/hp6fPMFOvVyLv8oRuI7HiHzv0bXB1g4rL4yHXugw9wfEPrWs/C7nw3/6Cvo9s0CBA9vb1zv/LXNuLY9qfy9tRDyziB+zsemQMuKbocJCHp1ZJVA2+xpbuqyMlLAccaX6Pf9IgxY9jv6zHkXATOno924yWx+X0O3pwYZL5cg7nwsSTYXSFs4Tv8Qvd4Zh/IL7wuQdZmGzqZAK5IHTGDPu5i2DxmsR7+L3rMfrzPQioExLTkNOmlbeBmD5Q0i9caY5x4qD7TG505wdbFF0JRnMbJivBI4Ozmwn0LLv4Xpuz7Fc08+iSdrdC/jt6iaw/AZu7FsuxIPfPCqhUArsoLvqLfx/gQtNv51nEXjRlB4I7izPfKz8+rdyXfTtt9q5J5ecEMOUpPVpj6EEEJuV3X9Ut8eJOznS1Z9MlltpcFNimxY93sg6z7ZQjcBMoute6XgU2IhcW8LIfU0uKRaurQCSN1twSdfNg1XlVCWCi5mHfRHFkC39zPo9i2APnwVDHHRtRweaIGiD+QT3oLM+Qb9ateJhfu8SHDJ1eY7OQp8WR1XlGzCNDd9WdlA2nMyJAmrwRVWT1NaCJGbIPg8yKal/sqmxLYDpD5DIO/zBpQP/gCF8ynow9bdEfeq5a6fwpnsXhh7X123GlGg69M/4qvp7au8h8s4gfD0UEwa36FSZbI6BfzGTkBoxkmEm8+fbBYOGSfCkR46CeM71LGtK/wwdkIoMk6Gm3pYJrHph5fnv4uRlsLxjSaxhd3Yd9Br7gto62s+lN0adnc/jI5T+sGazZ5QeA65sWKrphSqoU/Bf3Dlc0EZ647wfulhuNR3JDwbl8uM19A+wK7qThyFB9yffQmeXuKn6lBy/Gh5fwu4xF24/P7nSI0TW3YlkAfej+BZT8Gl2omiLTbNlTVgWVUQ93TmnUfKd+/h9NMP4/D0KTjywFQcfugRnFpy1nR4L8e+P6pGJlnQFPgOcGKPeJQd+QupVyrt2NRfReqaI+X3cXXsB98pwXVsL2YCCgpZnFPZwV5l6nUjsN9CZY09GBIolMqq67pWUjgEDceU++/H/TW6yejnWXNOSyNO47J7ANpmnsPJkydr6c4j3zMAdpGncMlili5BytldWL3ke8z7Yi7mfPI55n3/C5Zv3IeLOZYGqOlWbb9SBzvYSngUFzb6vkCEEEJusuq/kHckiUt/yILHQl6ju4/VoSwsAr4YglYHIWYh9Pu+qKP7EvpruawiVN6a8Q9WkUpcAt3q56E/uQ9CqR4SpSPr2LiKr4C/uBO8pr590yZSB0hUN3g1yViliCsT62ZV8Zngwtl87q00z7s+hH73lzAkiBeFqkWjprn5y0riMAqyjrngxHO2Tf1EQvE+GK45Qxbaq4GVvkpkLPwNfhMy3VYYklpmLz1feAhfP/MIHn7oITzUgO7hGU9j3oE6lnMjcFmZyHf3qeWiSnXjMjOR5+6LioxRGxsf+LrlISuzZUJtZmYe3H19Uf9ofeGWl2V6Vgu5AxyrXjnn5lF2R7vH7qoayKoRcrKgMy42GeyCQypaDiuTOHWFQ30tgbKOcO5dyykHqgC4dnMxPhQy04x/q+JQdvYPRM76GdkZYtBTwGrg8+gx+/EagVbUYtNcWQOWlRGXjZxf38WZOb8iLTwa6rxSCMb9bAKEsmLo8tlz4xstkDrD/cHJcBDvKGdIRNrqsPKrP7P51+5fhbQkcS+aEvbjHkabug4JrsR4ITuhYacV3Eq2fgMwZvx4jK/RjUCIW/X1xKGooAi6hJ349tO5mDu39u7THw8ix1CKArHVvhIu+wQWv/k4nnrvV4RdyoZeZgtHRxtINZmIPboZ28+LF19sgFu1/bIyJU6fpNk3gyaEEHKj3aJa3m1Oas8qgCpI+/8E1VMbYFVntx5WI0eYBiwn3h5Ht/8wJN0/h2rmz1COfheKu1+GYsjrUIz4CMopb0Nmf/v8SEqs2rB/0ljoqhZGpJ6Qj11VaV7/gqITC5z95kMR5Gp6U/O0zLKygjR0KiTJa8Dlm+dBC+HCJgi+D0Dm1IhKdWXyTpB6qSBkp7VIZVVq3w3jn3oazz77bMO6Z57CxB4OpqGbR6JQsICugbaOBvbaSKysodSUoKS+YflSlGiUsLJqibItgZW1EpqSErFeWSe+tAQa5Q285/VNIFGxMmxcbDz0hYWWyxtfCH1xfSWRLa1qm3FlFZdQkFT/6i9F0fYvEfHFRhSJF3ySOsJx2vsIfXss7GrZEdJy09xYHEr//gYxO6+BY5MqsfeD29hH4P/ymwh69WX4P/YgvPu1q/PHTdJ+DPyGebFHArgL65F8rgRCaQSSNkSUt/C2uRd+Y/+56FzdJHB0YtuprhhFd9RRqjI4ONpDFfIMlm7Zhm3b6u62bvgIoypfIphLwPq5X+Cg/XTMW7kaSxd8gvfeeROvv/Y63v7vh5j7zQ/474jqV8K/vfBFhSgRZHB0+ecwekIIIbcnCrUW2bAw4wf+6kHT3v/G4CDE7Yfg9xIUPbtXuTfubUseAplnDvjY6BYJbw3XcstKYj8ccv9icOdPGudBKN4LQ7wLZKE9m1FpKgPUpYCyCc2blkhdEDhoGIYNH47hDeiGDbsLgQ29Sm09FL7+8MmLxLnUOhJPLRR+QfBXn8OJ2LoPFdRdCcd5tT+C/OprZmsIBfyC/KE+dwJ1j1aHK+HnofYPMj1vnSSenWFnbA3lULxvKwpqXEmYg/bINmRn1fOFZLiK7MNJFncECAVnkHWuvOVf0q6D8a+R/jqyfn4fkUvDoRUbKa394PHa5+j+SC+o6ih+LTbNjcXFI2t/jCl83oMu3yxA12dZkL3vXrQdNgreUx6Gz8D2psBdG2s43f8A3BzYm/gcZK7ehKytq5CVzaZVPIT7/ulwruUubzUp0M6nHZR8BlJTLV2jofWy6d4DHeIOYF8Tvje4q/sRljkIr773EELdWuI74eYru34dOZK28PVt3TvNCCHk34BCrUUySIKmQla6HoYLcXUGPaGMVSBzKh8iyipFBj0kVrXc1U4oBn9xM/jSGxkf2WqVyiDoy692aomg1/4zXxInSHtNAq78AENCzk0Mti25rKwg6X4/JKlrwOWWgr+wmYXlh6rdT7cy8Xzhi+yza6+ECuls/ad5QOZT+Z6+rZTjIIwemIvNv2xHch31bl3aEfw2bxnOVL7ii81ATBolxc6FyxBZbOpXXUkUli/cCemoSRjYmHMo6yDeP3SUdCcWLotE7aNdjoU7pRg1aaCpT8vTpx3Fb5++i7ffnYMlh1JYjK6dUJKAnAN7kbHvAPJTNeU9uWwUHRL7/dNlRqVXDZ7K7vAa0dH4hSyk7UD0J4uRHp1tbIkUSlORu+lrRP5yovxcz8rKxCv97kNesvlw2zIUrZmLSysPoShbU95PX4jSs1tx5ZPvkZnDPkDiANeRpivas4CYOvf/cHl3fHlIlDnDacQIOBpikFUxvWFIW/ENLs5fidy8ShPQ1Gk2afKy4tm2a77fORs5X6o2zqegyULx6V1I+OY/OLPwBMpPpdVDe+kAMk7Fw3i76kokLkPhO65z+fTHb0Ds+jjjeCS+4+B7b+NaEG27d0NnaQZiY3KrTmsrJ/McjQfuysbaBWsh3tWpVnwJEqOuonLx4HVa6K0cUOOuckY8iqO3YMOJG/h7I5VDIdNAXesFGTloNHVtzTpcjb4KnWNXdG/MVZ0JIYTcErKPGNPjCuIhauJtfU7H5SIlR4PpQ/xMrzQRXwQ+N5lVYnJZZUfs2A9Z8j7wqh6QKopN/fIg6Fg1wtq6vDLBFbBhYsFfvQCJazAkNg6QKMSAwrEKyEbwkhBIHR0BlXiRDPajlbkXXL4zZK7u7DNsIDGPM+0weK4DpHbsU+WOkBgvicnmUZ0KIT8dQiKbDquekIp31heHM77KKjbydpC6qsEdWwyuUMUqQL6QqsxnjbFKVckV8Jf/gmH/T+D0XSH39Ta9xj5HkgjuzFGgTR9I7E3zI7AQmbEfhkNfwZBqgEQog6SNeJshVguwsa0YL1sQLGwlGZcVimPAs5Ap8WafrTYvO7acytj8VppWi9TnwUVFQ+LVmy0704VExGnIOQMu4hcYDmwBfEZBaiNW6dgk2wazx5fAHfwTvNqKhSBvFjYrXYCEywOftBvclXOA+wTIPCpdiKbJ09zMZVWNROkDiWY79LGRLJCqILtnBmS1ntvL1uHlL6Hbt42VD3uW671M5Ut8iZW92N+gP7gLCHkHis6Vr+DcWqnQrosHUtZ9hz/C1XDt6A8fFytjhV5cFpqsyziy4RfM+3o1En3HYgrb5u0qFp0MbYIDIRz+Cd9uTYRVe3908LQznUOpQ2bEVvw4Zz722z2M2W8OR9vK9T99PlISkpGRnYvcXLHLwZUTu5Fs3wcdrAtM/XJRoJbCztFaLBH/kLVBcKCAwz99i62JVmjv3wGedqZtUJeJiK0/Ys78/bB7eDbeHN4WVaqdrJKdkZCAtCz2+enROHokG216toc83zwducgvFmDjbFt1uBrUOLTgdfywPxHp1xMRdToHvhPvRUeL16tRI/u71xG9/ihyT51CYbopBfB5KD5zkvX7p8s5HAGh+0g4V5zHKIMqIBDyhJPIZ8PxeVeRu38rkjesQ/LGbci6kAxDpcYyiVsPeA/vjNJl7yJy+X4UpFU67pVXQxN9AhnbNiBJHH7tBlw/fA4l+eLeDCVs7nsNXaazcYmFWn8BKb8egNr82Wzb08aeqzKt4rzkXU6EJiUWOo9R8OhsPnKhKdMcbLpaczOWFQveSl0UMiOz2XdOInJ2bWLjXIukdVuQfuQ0CpPZd5V4yXrjodZ6lMWeRu7RI9B4j0Eb38orTgqlnxvKjh1GSSn7bhHfLnVF2+ffhLdP4674JLVxQen5rQjL8MKY4YHirdUt4grTEJ+UjmxTGczNuYrwsHjY9uwM22Jz2SyAWmoHR/OlpnVsG4q/jNMHIqDrFMK2W0c4ir9X7Lcw6fA6nJd0Q3A7JzjZlf8WlkbvwdYkZ/T0bwM7J1a+uUKkxSfi2vlDOF/WEcFuEnBWjrBTlk+kLj8FCcnpiDmxBykObLt0lMLWvF1IrNCuhz/Uuxfix51pUHl3gJ+nfcU2w2uyEBu+A8u/+xI/7lGj25gBMF+wXeYgRcLmZTisDULfEA9YG9c7+67JuIh9K77BZ4vPwmDPocy+C4LZz7Zg4wzbig9uie1XhbyzK7Dpoj1C+3aGi2l+eW0urp7ajTU/fYEvN5Xg4Qmhxv416GOxZfFGpPd6Ai8Nre/+24QQQixJy1XjyKVMtLcthYNKMN6yR6lUGm/tY+7E52J/mUxmvJ2PxHihisa7KfepFRK/RtmuPeWVhrooB0L+8CzIWdASrnyCsn3mK3SyX8PO70F13xD2o60Dt/dh6ONKWPCaCuWDz0MqYwEl8v9Y5eQCC67dIH/gS8jyv602TgUkvRdA2a8z+4xicLufgD6+UnOUPBjyafMhr3aVXCF3HwzHloG7ng/YsXAj1sjKWChX6wCX3pCFPAR5UJeqp6iJLYznPofubCRgy8KS3MDen8PqIC6QdpkBec824Db+D5x4uJ6MVQrvXwC5a/l4haxl0G1aVfdhz/IQNq1f1ZjWKrhUcEc+Y7/LqYC9JyQyNg2lmeyHmlV8PAZD1uNByPxYcDW9vRwH4fo2461suIw8FiDbGM+nBM9CawmbfusukAVPh6zbgH9uscQ0a5qbsawsEdT7oF/zNQT/z6AcElpPGGUV8WvrYDi/Ezzb6GDH5lcusHm9zoqcH6R9XoUihK3bpm1btyUu9yxWf78Qfx1NYeXXC20cZdAX5SAzpwwOnQdjwqNP4IHBPrB4wLUmAWFLvsOv26JQzMqUh5MC+oIMpJfYo/uE5/DGM/eh+lF6mkNz8dCcfSiqq2wwEtsh+N+qORhh4RRiTUIYlnz3K7ZFFbOi7AEnhR4FGekose+OCc+9gWfu80X1gwO52N/w/KvLca2uo0FV3fDCLwvwoE8d2xH7vola/BzeXp3E4hErgu2mYf7Sl2H5lpU6FK55HxfXxpbf47QOErdBCJjzDjyqX3FWn4mc9UsQ//dpaNSVPoSFC6vgnrDKPomCLB6SwMfQ99Mp4Pd+hshfT5su2MTIOsJ9pBNKDkVUHZ6RunZBm6lPouPooH9uA1R2EJce+wYNuwitDI5P/ITQSR6m5yaNmuZpptsCNXNZ8fnI37gIcRtOQaOt9MMid4LdwAnw7Z6GuEX7oTO/ZNsZvu9/Dr8u1VccD+32WTi9JFLcZca+255F79kTqt66qEF45Id9jCe+KcKjv83HNAtXEhbn+fiXD+HDXfnGcdVOAtu73sXyOaMh3kmoKGw2HvmcBW/jvEjhMHwW/vpgKGzY5x2aez8+3lcCabvp+Pq3l9BDwSNr/dt45McIGKx64MUlX2Ny0nw89OEu5FeMVAH/x37Az08GsjVajL2zZ+CzwyX//FSqQvDs4m8xw7fSPIjb/tKFWLo9AvnKNvBws4G0rAjZmXnQ2XdA3/um4JGHRyO4yvc7j+KoVfjkkz8RUeYGb3crGEpykZ2jh2vPsXj0mRlos+tlvLM5g71TgaCnfsbCRzsad2y11ParTwnDt3O+x+5UBSs/LlAaipGTkQ210hvd7h6DBx6ZioHelg8t1kX8gCffPYO7F/yK57ve3KsuE0LIneJm3qf2poTa1o+FvaIY8JlpEPSscqZyg8Q9GBKHultLja256fFsGCmrtPtA6hVQHopvGhb2C6PBZyRD4Fiot2Hh1iMQUqv69jmL88umPSvFeBVoKBwhcWHDubHQd4MCXkstK6F4O/Sbj0E66RPILd6uyRI2v4Vs/YoXhGK1YIktC7RenW/yurqZeGgyY3HhUhKySwxQ2LvDJyAYgd72xgplffSFibh04QrSCvWsaHgjoEdX+DnWV6aaS4/CxEu4cCUNhXoFHL0D0KOrH274aEVcPmJPnEBsoS0CBg5GUAud51wXQZuN4ksxUIs7W9j6sfbxh4NHMVLefwUJsRwkXZ5E30+m1Bq+BE0mGz4WpeLwSlsoWXl29PeA/AZOenOnuSmE4lQUXoqDplDHvo+9YB8cBNvGFAoWjrO+eR2XjxWIeyzQbs4CdApu4n15dJew+Lm3ED5oAX55LviObNnjSq7jclQMUsVTPFQOcGsXiJBAD5gO+LFMl43Yc5G4mqWGzM4NPsGhCPKwNh0lchPwJUi7FIFLSSyAy+3g4u2PrkE+dX938AXYP/cpLCh9Ar9+PhEed+pPASGE3GAUaglpEi24I6/AgFca0EpLSOtiiFmJyI/WoLhMAsWw99H/1X4N2glxK93u08xF/4ZzszZDzbHpu+st9HlrKMS7iTUNj7y9c/DsIgEvLJmNEQ28HRC5/XBXl+Hl1w+i55eL8XwItdISQkhTUaglpAmEoq3Qbz4J6eQ5jWilJeT2wqccQdKWE1CXiJciFgngSzNRHJsIvfG02I7wmfMVOgTePpXt1jHNemhOrEbioRQWP0UC9EkRKMwQb64qhyqwNxx7jETHB/uiybcG59Kw9b03sL/Xd/j6Qa/bfqcDsUSHM988ie8lr2Hh6/1xq25vTQghdwIKtYQ0gJB7CNy1hPLrwYhnhGXtA1caAFkHX0hchkDWuSO11pJWRo/8xS8gcle26Xk1Nh3h+eJ/4T/Y8+YdvlmvVjLNXAIS330LSfF13J5G0R9By99H2yYegWyk10ADa1jficcf/0vwWg10SmtYUaAlhJBmoVBLSL14CMkroY+KZY+rF2G2MbhPhKJv3zvqIk/k34FLOoDEDcehrrjdlAxSOydY+YWizb0DYO90+6Wl1jHNOqgPL0dCRUttdTIoukxEx6k9mnEIMiGEEELMKNQSQgghhBBCCGm1bmaopf3RhBBCCCGEEEJaLQq1hBBCCCGEEEJaLQq1hBBCCCGEEEJaLQq1hBBCCCGEEEJaLQq1hBBCCCGEEEJaLQq1hBBCCCGEEEJaLQq1hBBCCCGEEEJaLQq1hBBCCCGEEEJaLQq1hBBCCCGEEEJaLQq1hBBCCCGEEEJaLQq1hBBCCCGEEEJaLQq1hBBCCCGEEEJaLQq1hBBCCCGEEEJaLQq1hBBCCCGEEEJuKIlEUuVvS6o11N6IkRFCCCGEEEII+fcQU6WYLat3lVV/3lgSgTE9rsDzPDiOw8/bY7EvMsvUlxBCCCGEEEIIabghHtnwdhCgUqlgZ2cHe3v7ik58LvZXKpWQyWSQSpt2IHGdoTYhvRB7z6ejTK+HXqeDjnV68THrxNfF94mDGzv2HyGEEEIIIYQQImH/qeQCgpxKYaVSwMrKCjY2NlVCra2trbG/QqG4caFWDK9ikC0pKUFpaSmKi4uNj9VqNbRarfF18b1iJ7LwUYQQQgghhBBC/kXMhxOLIVXsxNBqDrXm1lox0IqPxVbaGxZqxc5gMBhDrRhozZ0YaMW/5lZbCrWEEEIIIYQQQswshVoxvIpBVgy24l9zJ/aXy+UV720Ki6FW7GUOtWJw1Wg0xjArduJjsRNDbfVDkAkhhBBCCCGEEPMFocSgKrbCiuHV2tra2InBVuzEx2LgNYfapl4wqtZQK3ZiaBWDrXiosbkTA21ZWZmxP4VaQgghhBBCCCHVVQ+1YnAVLwolBlnxUGRzJ/YXXze/vykshlqRGFbNoVVslTV3YqA1XyhK7MyBlkItIYQQQgghhBCROaSKnRhaxU5slTVf7djcmUNvUw89FtUaas1B1XwYsrkTA625ldb8HnNHCCGEEEIIIYRUDrXmYCu2ypoPNzZ35sOOxa6p6gy15r/mFtvqf8XXzB0hhBBCCCGEEGJWOdRWbpGt/NccZpseaoH/B/JR3VZ+Ve7JAAAAAElFTkSuQmCC)"
      ]
    },
    {
      "cell_type": "code",
      "execution_count": 4,
      "metadata": {
        "id": "vYuFIYkKIMW9"
      },
      "outputs": [],
      "source": []
    },
    {
      "cell_type": "markdown",
      "metadata": {
        "id": "IrEOGREhbgd1"
      },
      "source": [
        "e) Enfin, sauvegardez l’image en niveau de gris de votre choix dans un fichier png à la racine de votre répoertoire de travail."
      ]
    },
    {
      "cell_type": "code",
      "execution_count": null,
      "metadata": {
        "id": "GJ0dYJAEPVjb"
      },
      "outputs": [],
      "source": [
        "# save them\n",
        "\n",
        "import imageio as iio\n",
        "iio.imwrite(\"heart-gray.png\", imHeartGray1)\n"
      ]
    },
    {
      "cell_type": "markdown",
      "metadata": {
        "id": "pcITjU6oVM6u"
      },
      "source": [
        "# Exercice 4 : Résolution pour 2024 ?"
      ]
    },
    {
      "cell_type": "markdown",
      "source": [
        "### Importation des différents modules python\n",
        "\n"
      ],
      "metadata": {
        "id": "0BDHZod4FMeZ"
      }
    },
    {
      "cell_type": "code",
      "source": [
        "import scipy.misc as misc\n",
        "import matplotlib.pyplot as plt\n",
        "import iptools.imdisplaytools as imdisp\n",
        "import skimage.color as color\n",
        "import iptools.imtools as imtools\n",
        "import numpy as np"
      ],
      "metadata": {
        "id": "H_y5zVLGFHby"
      },
      "execution_count": null,
      "outputs": []
    },
    {
      "cell_type": "markdown",
      "source": [
        "### a) Ouvrir et afficher l’image \"lena.png\". Quelle est la définition de l’image affichée ; sa résolution ?"
      ],
      "metadata": {
        "id": "jLm1dTidzkpZ"
      }
    },
    {
      "cell_type": "code",
      "execution_count": null,
      "metadata": {
        "id": "Xze0H80MQdj6"
      },
      "outputs": [],
      "source": [
        "lenaIm = iio.v3.imread(\"lena.png\") #chargement de Lena\n"
      ]
    },
    {
      "cell_type": "markdown",
      "source": [
        "### b) Lancer le script exercice4b.py déjà fourni. Pour chaque images a, b, c, d et e, donnez :\n",
        "  - Leurs définitions (taille de l'image)\n",
        "  - Leurs fréquences d'éhantillonnage par rapport à la référence"
      ],
      "metadata": {
        "id": "II8nIOqszu5b"
      }
    },
    {
      "cell_type": "code",
      "execution_count": null,
      "metadata": {
        "id": "INrUYFcSV4Jh"
      },
      "outputs": [],
      "source": [
        "from skimage.transform import resize\n",
        "\n",
        "lenaIm2 = resize(lenaIm, [rows//2, cols//2]) # retaille copie de lenaIm de taille /2\n",
        "lenaIm3 = resize(lenaIm, [rows//4, cols//4]) # retaille copie de lenaIm de taille /4\n",
        "lenaIm4 = resize(lenaIm, [rows//8, cols//8]) # retaille copie de lenaIm de taille /8\n",
        "\n",
        "lenaIm5 = lenaIm.copy() # copie simplement lenaIm dans lenaIm5\n",
        "\n",
        "plt.figure()\n",
        "\n",
        "# affiche les différentes versions de lena sur une grille\n",
        "plt.subplot2grid((4,4), (0, 0)).set_title(\"a : 512x512\")\n",
        "imdisp.imshow(lenaIm)\n",
        "\n",
        "plt.subplot2grid((4,4), (0, 1)).set_title(\"b : 256x256\")\n",
        "imdisp.imshow(lenaIm2)\n",
        "\n",
        "plt.subplot2grid((4,4), (1, 0)).set_title(\"c : 128x128\")\n",
        "imdisp.imshow(lenaIm3)\n",
        "\n",
        "plt.subplot2grid((4,4), (1, 1)).set_title(\"d : 64x64\")\n",
        "imdisp.imshow(lenaIm4)\n",
        "\n",
        "plt.subplot2grid((4,4), (0, 2), colspan=2, rowspan=2).set_title(\"e : 512x512 \\n taille vignette x 2\")\n",
        "imdisp.imshow(lenaIm5)"
      ]
    },
    {
      "cell_type": "markdown",
      "metadata": {
        "id": "lRyRqUXQh8G4"
      },
      "source": [
        "#Exercice 5 : Sha..quoi !"
      ]
    },
    {
      "cell_type": "markdown",
      "source": [
        "### Importation des différents modules python"
      ],
      "metadata": {
        "id": "OHG_QQimbPUd"
      }
    },
    {
      "cell_type": "code",
      "source": [
        "import scipy.misc as misc\n",
        "import matplotlib.pyplot as plt\n",
        "import iptools.imdisplaytools as imdisp\n",
        "import skimage.color as color\n",
        "import iptools.imtools as imtools\n",
        "import numpy as np\n",
        "import imageio as iio"
      ],
      "metadata": {
        "id": "865iRWbObO2t"
      },
      "execution_count": null,
      "outputs": []
    },
    {
      "cell_type": "markdown",
      "source": [
        "### a) Ouvrez et affichez l’image « Damier.png ». Combien y a t’il de cases noires ?"
      ],
      "metadata": {
        "id": "whDE9HUk0gey"
      }
    },
    {
      "cell_type": "code",
      "execution_count": 5,
      "metadata": {
        "id": "9PYu5Gt4tr05"
      },
      "outputs": [],
      "source": [
        "# open image\n",
        "\n"
      ]
    },
    {
      "cell_type": "markdown",
      "source": [
        "### Effectuez maintenant un sous-échantillonnage de l'image en utilisant imresize."
      ],
      "metadata": {
        "id": "xJGTeEO_l64Z"
      }
    },
    {
      "cell_type": "code",
      "execution_count": null,
      "metadata": {
        "id": "dPSr9GTHtyGT"
      },
      "outputs": [],
      "source": [
        "from PIL import Image\n",
        "#from skimage.transform import resize\n",
        "from skimage import data\n",
        "\n",
        "#Méthode 1\n",
        "imDamier2 = np.array(Image.fromarray(imDamier).resize((6, 6), Image.BILINEAR))\n",
        "imdisp.imshow(imDamier2)\n",
        "\n"
      ]
    },
    {
      "cell_type": "markdown",
      "source": [
        "### Combien y a t-il de cases noires ? C'est mal hein ?\n",
        "### Quel théorème de la numérisation n'a pas été respecté ici ?"
      ],
      "metadata": {
        "id": "NmLwBmmTohQd"
      }
    },
    {
      "cell_type": "markdown",
      "source": [
        "## b) Ré-ouvrez maintenant votre image de cœur en niveau de gris, redimensionnez là en 51x36 en testant les différentes options « interp(‘nearest’, ‘bilinear’ et ‘bicubic’)."
      ],
      "metadata": {
        "id": "iUAzZYO4YTbR"
      }
    },
    {
      "cell_type": "code",
      "execution_count": 5,
      "metadata": {
        "id": "FUp45FMyyBEA"
      },
      "outputs": [],
      "source": []
    },
    {
      "cell_type": "markdown",
      "metadata": {
        "id": "STWXZccB6hWw"
      },
      "source": [
        "# Exercice 6 : Baissez d'un ton !"
      ]
    },
    {
      "cell_type": "markdown",
      "source": [
        "### Importation des différents modules python\n",
        "\n"
      ],
      "metadata": {
        "id": "8y7VZRKUsUWF"
      }
    },
    {
      "cell_type": "code",
      "source": [
        "import scipy.misc as misc\n",
        "import matplotlib.pyplot as plt\n",
        "import iptools.imdisplaytools as imdisp\n",
        "import skimage.color as color\n",
        "import iptools.imtools as imtools\n",
        "import numpy as np\n",
        "import imageio as iio"
      ],
      "metadata": {
        "id": "WNGZ0zQUsUD0"
      },
      "execution_count": null,
      "outputs": []
    },
    {
      "cell_type": "markdown",
      "source": [
        "### Que fait on à l'image (la pauvre) ?\n",
        "### De quel principe de la numérisation s'agit-il ?"
      ],
      "metadata": {
        "id": "qNxQ-D30uu7H"
      }
    },
    {
      "cell_type": "code",
      "execution_count": null,
      "metadata": {
        "id": "iCsrp1h76gyJ"
      },
      "outputs": [],
      "source": [
        "# manque l'image...\n",
        "imHeart = iio.v3.imread(\"HeartDTI.png\")\n",
        "imHeartGray = color.rgb2gray(imHeart*255) # entre 0 et 1\n",
        "\n",
        "plt.figure()\n",
        "# Affichage de l'image originale\n",
        "plt.subplot(1,2,1).set_title(\"image originale\")\n",
        "imdisp.imshow(imHeartGray)\n",
        "\n",
        "print(\"Niveaux de gris dans l'image originale : \\n\",np.unique(imHeartGray))\n",
        "print(imHeartGray.dtype)\n",
        "imHeart2 = imHeartGray*255//100 * 100\n",
        "\n",
        "# Affichage de l'image modifiée\n",
        "plt.subplot(1,2,2).set_title(\"image modifiée\")\n",
        "imdisp.imshow(imHeart2)\n",
        "\n",
        "\n",
        "print(\"\\n\\nNiveaux de gris dans l'image modifiée : \\n\",np.unique(imHeart2))\n",
        "print(imHeart2.dtype)"
      ]
    },
    {
      "cell_type": "markdown",
      "metadata": {
        "id": "5g3GM3gG8Vc-"
      },
      "source": [
        "# Exercice 7 : Histogramme ..."
      ]
    },
    {
      "cell_type": "markdown",
      "source": [
        "### Importation des différents modules python"
      ],
      "metadata": {
        "id": "7SSx5UTs3DqC"
      }
    },
    {
      "cell_type": "code",
      "source": [
        "import numpy as np\n",
        "import scipy.misc as misc\n",
        "import matplotlib.pyplot as plt\n",
        "import iptools.imdisplaytools as imdisp\n",
        "import skimage.color as color\n",
        "import iptools.imtools as imtools\n",
        "import imageio as iio"
      ],
      "metadata": {
        "id": "_E7bS23A3FJy"
      },
      "execution_count": null,
      "outputs": []
    },
    {
      "cell_type": "markdown",
      "source": [
        "### a) Coder la fonction myHistrogram qui prend en argument l'image et le nombre de niveaux (256 par default) et qui retourne un tableau (array 1D) comptant le nombre de pixel pour chaque niveau de gris."
      ],
      "metadata": {
        "id": "UdJv0LZp3PN1"
      }
    },
    {
      "cell_type": "code",
      "execution_count": null,
      "metadata": {
        "id": "BABL3F1X8U7Q"
      },
      "outputs": [],
      "source": [
        "def myHistogram(img, levels=256):\n",
        "    \"\"\" Create histogramme = count nb of pixels for each gray level value \"\"\"\n",
        "\n",
        "\n",
        "    return histo"
      ]
    },
    {
      "cell_type": "markdown",
      "source": [
        "### b) Que remarquez vous sur l’histogramme ? Expliquez sa forme aplatie, qui est le coupable ? Qu’est ce que cela signifie sur l’image ? Comment corriger cela ?"
      ],
      "metadata": {
        "id": "-l8pYZa3Z6OG"
      }
    },
    {
      "cell_type": "code",
      "execution_count": null,
      "metadata": {
        "id": "cMsNmpqs8g4e"
      },
      "outputs": [],
      "source": []
    },
    {
      "cell_type": "markdown",
      "metadata": {
        "id": "_p3NK05uDRCF"
      },
      "source": [
        "# Exercice 8: LUT"
      ]
    },
    {
      "cell_type": "markdown",
      "source": [
        "## a) créez une LUT qui ne fait rien"
      ],
      "metadata": {
        "id": "9y7jtmj8By1U"
      }
    },
    {
      "cell_type": "code",
      "execution_count": null,
      "metadata": {
        "id": "Gaw9QWmoDN3m"
      },
      "outputs": [],
      "source": [
        "import iptools.luttools as luttools\n"
      ]
    },
    {
      "cell_type": "markdown",
      "source": [
        "## b)  En utilisant la fonction plot de matplotlib.pyplot, affichez la LUT"
      ],
      "metadata": {
        "id": "45BMKwpuB-kv"
      }
    },
    {
      "cell_type": "code",
      "execution_count": 6,
      "metadata": {
        "id": "kDOtzsNvDhNn"
      },
      "outputs": [],
      "source": [
        "# display it\n"
      ]
    },
    {
      "cell_type": "markdown",
      "source": [
        "##c) Et maintenant, ouvrez l’image « heart-gray.png » et affichez là en appliquant votre super LUT qui ne sert à rien"
      ],
      "metadata": {
        "id": "QDpIVLPhCJOT"
      }
    },
    {
      "cell_type": "code",
      "execution_count": 6,
      "metadata": {
        "id": "JbmE015wDpXR"
      },
      "outputs": [],
      "source": []
    },
    {
      "cell_type": "markdown",
      "source": [
        "## d)Sur ce principe, calculez la lut inverse (pensez à utiliser l’argument reverse de la fonction createLinearGrayscaleLUT) puis affichez côte à côte la LUT obtenue et l’image sur laquelle vous l’appliquez :"
      ],
      "metadata": {
        "id": "bFQKMeslDUCf"
      }
    },
    {
      "cell_type": "code",
      "execution_count": 6,
      "metadata": {
        "id": "wai6oKatD96v"
      },
      "outputs": [],
      "source": []
    },
    {
      "cell_type": "markdown",
      "source": [
        "## e) Est ce que l’image est modifiée par la LUT ? Comment pouvez vous le prouver ?"
      ],
      "metadata": {
        "id": "vU3mfnBfDdnT"
      }
    },
    {
      "cell_type": "code",
      "execution_count": 6,
      "metadata": {
        "id": "j1mPurNWEAl2"
      },
      "outputs": [],
      "source": []
    },
    {
      "cell_type": "markdown",
      "source": [
        "##f) Pour finir, construisez une LUT en escalier.Qu’obtenez vous ? Cela vous fait-il penser à quelque chose ?\n"
      ],
      "metadata": {
        "id": "VM3OZ6FKDm6u"
      }
    },
    {
      "cell_type": "code",
      "execution_count": 6,
      "metadata": {
        "id": "mSyd-UDdGSqe"
      },
      "outputs": [],
      "source": []
    },
    {
      "cell_type": "markdown",
      "metadata": {
        "id": "BahyIiWejf7u"
      },
      "source": [
        "# Exercice 9: Enhance me"
      ]
    },
    {
      "cell_type": "code",
      "execution_count": null,
      "metadata": {
        "id": "yyqR023vjmOU"
      },
      "outputs": [],
      "source": [
        "import scipy.misc as misc\n",
        "import iptools.luttools as luttools\n",
        "import matplotlib.pyplot as plt\n",
        "import iptools.imdisplaytools as imdisp\n",
        "import numpy as np\n",
        "\n"
      ]
    },
    {
      "cell_type": "markdown",
      "source": [
        "## a)Charger l’image enhance-me.gif et affichez la"
      ],
      "metadata": {
        "id": "fc2PfZcpFAWU"
      }
    },
    {
      "cell_type": "code",
      "source": [
        "\n",
        "# load image\n",
        "\n",
        "\n",
        "# display image and histogram\n"
      ],
      "metadata": {
        "id": "JbKc9SuvEOM8"
      },
      "execution_count": 7,
      "outputs": []
    },
    {
      "cell_type": "markdown",
      "source": [
        "## b)&c)"
      ],
      "metadata": {
        "id": "hiRN1JDmGijl"
      }
    },
    {
      "cell_type": "code",
      "source": [
        "\n",
        "# save it\n",
        "#iio.imwrite(\"enhanced.png\", im)"
      ],
      "metadata": {
        "id": "e6tOoWxnsmi5"
      },
      "execution_count": 8,
      "outputs": []
    },
    {
      "cell_type": "markdown",
      "metadata": {
        "id": "ZSzAcyN5nIXP"
      },
      "source": [
        "#Exercice 10  Convoluons, convoluons\n",
        "## a) Jetez un œil sur la fonction « convolution » fournie par le prof (cf. fonctionsfiltrage.py). Essayez de la comprendre en reliant ce que vous savez sur la convolution.\n",
        "\n",
        "## b) Convoluez l’image « heart-gray.png » avec le filtre suivant en utilisant la fonction convolution fournie avec l’énoncé et affichez le résultat.\n",
        "\n"
      ]
    },
    {
      "cell_type": "code",
      "source": [],
      "metadata": {
        "id": "9i2g4mReavfr"
      },
      "execution_count": null,
      "outputs": []
    },
    {
      "cell_type": "markdown",
      "metadata": {
        "id": "ocWfKj67ufC_"
      },
      "source": [
        "#Exercice 11 Money, money, money\n",
        "\n",
        "\n"
      ]
    },
    {
      "cell_type": "markdown",
      "source": [
        "## a)\n",
        "\n"
      ],
      "metadata": {
        "id": "uI1_aAXVIkn8"
      }
    },
    {
      "cell_type": "code",
      "source": [
        "\n",
        "import scipy.misc as misc\n",
        "import matplotlib.pyplot as plt\n",
        "import iptools.imdisplaytools as imdisp\n",
        "import iptools.ffttools as ffttools\n",
        "\n",
        "\n",
        "# open image\n",
        "\n",
        "\n",
        "# apply fft transform (and also shift and log rescale)\n",
        "\n",
        "\n",
        "# display fft image\n"
      ],
      "metadata": {
        "id": "2ZgPwI7cJcnv"
      },
      "execution_count": null,
      "outputs": []
    },
    {
      "cell_type": "markdown",
      "source": [
        "## b) & c)"
      ],
      "metadata": {
        "id": "4b0DdSoqJTpE"
      }
    },
    {
      "cell_type": "code",
      "execution_count": 10,
      "metadata": {
        "id": "xSSAFRhGvGV0"
      },
      "outputs": [],
      "source": [
        "# erase frequencie band (spots)\n",
        "\n",
        "\n",
        "# display filter fft image\n",
        "\n",
        "\n",
        "# apply ifft\n",
        "\n",
        "\n",
        "# display filtered image next to original image\n",
        "\n"
      ]
    },
    {
      "cell_type": "markdown",
      "metadata": {
        "id": "VqPB2_TiwjDO"
      },
      "source": [
        "#Exercice12"
      ]
    },
    {
      "cell_type": "markdown",
      "source": [
        "## a)"
      ],
      "metadata": {
        "id": "YI-M-R9DJqgk"
      }
    },
    {
      "cell_type": "code",
      "source": [
        "import numpy as np\n",
        "\n",
        "import scipy.misc as misc\n",
        "import matplotlib.pyplot as plt\n",
        "import skimage.filters as filters\n",
        "import iptools.imdisplaytools as imdisp\n",
        "import iptools.imtools as imtools\n",
        "import skimage.morphology as morphology\n",
        "\n",
        "\n",
        "def seuillage(im, threshold):\n",
        "    \"\"\" binarize image \"\"\"\n",
        "\n",
        "\n"
      ],
      "metadata": {
        "id": "jQFbGI6sJvpP"
      },
      "execution_count": 11,
      "outputs": []
    },
    {
      "cell_type": "markdown",
      "source": [
        "## b)&c)"
      ],
      "metadata": {
        "id": "Ux4knywVKN_v"
      }
    },
    {
      "cell_type": "code",
      "source": [
        "# open image\n",
        "\n",
        "\n",
        "\n"
      ],
      "metadata": {
        "id": "ERf4zNg8KGFw"
      },
      "execution_count": 12,
      "outputs": []
    },
    {
      "cell_type": "markdown",
      "source": [
        "## d)"
      ],
      "metadata": {
        "id": "dirduGAdLEQq"
      }
    },
    {
      "cell_type": "code",
      "source": [],
      "metadata": {
        "id": "00HoReMuLEcA"
      },
      "execution_count": null,
      "outputs": []
    },
    {
      "cell_type": "markdown",
      "source": [
        "## e)& f)"
      ],
      "metadata": {
        "id": "Z4inhvvkLSzF"
      }
    },
    {
      "cell_type": "code",
      "execution_count": 12,
      "metadata": {
        "id": "QeGp23H4wlcQ"
      },
      "outputs": [],
      "source": [
        "\n"
      ]
    },
    {
      "cell_type": "markdown",
      "metadata": {
        "id": "up3hfdZSzURe"
      },
      "source": [
        "#Exercice 13"
      ]
    },
    {
      "cell_type": "markdown",
      "source": [
        "## a)"
      ],
      "metadata": {
        "id": "dY11nGD4L8K6"
      }
    },
    {
      "cell_type": "code",
      "execution_count": 13,
      "metadata": {
        "id": "EiNIj4jczcrR"
      },
      "outputs": [],
      "source": [
        "\n",
        "\n",
        "import scipy.misc as misc\n",
        "import matplotlib.pyplot as plt\n",
        "import skimage.filters as filters\n",
        "import iptools.imdisplaytools as imdisp\n",
        "\n",
        "\n",
        "\n"
      ]
    },
    {
      "cell_type": "markdown",
      "source": [
        "## b)"
      ],
      "metadata": {
        "id": "T4zywp4sL_z3"
      }
    },
    {
      "cell_type": "code",
      "execution_count": null,
      "metadata": {
        "id": "xhwkrJh50E-j"
      },
      "outputs": [],
      "source": [
        "# -*- coding: utf-8 -*-\n",
        "\"\"\"\n",
        "Created on Tue Sep 20 12:21:44 2016\n",
        "\n",
        "@author: emilien\n",
        "\n",
        "kmean exemple exercice\n",
        "\"\"\"\n",
        "\n",
        "import numpy as np\n",
        "import scipy.misc as misc\n",
        "import skimage as ski\n",
        "import sklearn.cluster as skclus\n",
        "import matplotlib.pyplot as plt\n",
        "import iptools.imdisplaytools as imdisp\n",
        "\n",
        "def myKmeans(im, k, k_init=None):\n",
        "    \"\"\"\n",
        "    kmean clustering\n",
        "    arg 1 : \"im\" => 2D array : Image\n",
        "    arg 2 : k => int : number of classes for output\n",
        "    arg 3 (optional) : classes centers initialisation (by default, classes centers are evenly-distributed between min and max of the image)\n",
        "    \"\"\"\n",
        "\n",
        "    #if k_init not specified : init an array with centers evenly ditributed between min and max of image\n",
        "    if not k_init:\n",
        "        k_init = np.array(list(range(np.amin(im),np.amax(im),(np.amax(im)-np.amin(im))//k)))\n",
        "\n",
        "    # create observations variable which is image flatten (2D==>1D array)\n",
        "    obs = im.flatten()\n",
        "    isContinue=True;\n",
        "    # initialise centers (classes avg) and obs classes\n",
        "    centers = k_init.copy()\n",
        "    obsClass = np.zeros(obs.shape)\n",
        "\n",
        "\n",
        "    # while isContinue is true\n",
        "    while (isContinue):\n",
        "        # inside loop, initialization stuff...\n",
        "        previousCenters = centers.copy()\n",
        "        sumCenters = np.zeros(k_init.shape)\n",
        "        nbSamplesByCenters = np.zeros(k_init.shape)\n",
        "\n",
        "        # for each pixel in image, choose the best classe (which had the best distance between intensity value and center value)\n",
        "        for i in range(len(obs)):\n",
        "            o = obs[i]\n",
        "            classindex = np.argmin(abs(centers-o))\n",
        "\n",
        "            sumCenters[classindex] += o\n",
        "            nbSamplesByCenters[classindex] +=1\n",
        "            obsClass[i] = classindex\n",
        "\n",
        "        # update classes centers with the news distribution\n",
        "        centers = sumCenters / nbSamplesByCenters\n",
        "\n",
        "\n",
        "        # compute convergence value (difference between new centers and the previous one)\n",
        "        conv = np.sum(abs(centers-previousCenters))\n",
        "\n",
        "\n",
        "\n",
        "        # if conv value is small ==> stop the loop\n",
        "        if (conv < 0.01):\n",
        "            isContinue=False\n",
        "\n",
        "\n",
        "    # at the end, create an classified image by reshaping obsClass 1D to 2D array\n",
        "    imClass = obsClass.reshape(im.shape)\n",
        "\n",
        "    # return classes centers and classified image\n",
        "    return (centers, imClass.astype('uint8'))\n",
        "\n",
        "# TODO : load \"brain2.png\" image\n",
        "\n",
        "# TODO : apply myKmeans on it\n",
        "\n",
        "# TODO : display the new classified image using imdisp.labelcolorshow\n",
        "# (considering each class number as a different label)\n"
      ]
    },
    {
      "cell_type": "code",
      "execution_count": null,
      "metadata": {
        "id": "LApmVT7R0K3j"
      },
      "outputs": [],
      "source": [
        "\n",
        "\n"
      ]
    },
    {
      "cell_type": "markdown",
      "metadata": {
        "id": "Fsv8sy-8A9pq"
      },
      "source": [
        "# Ex14 Segmentation par croissance de région"
      ]
    },
    {
      "cell_type": "markdown",
      "source": [
        "## a) Que se passe t’il ?\n",
        "Décrivez en détail le fonctionnement de la fonction regionGrowing\n",
        "A quoi correspond « delta » ? Que se passe t’il si vous modifiez sa valeur ?"
      ],
      "metadata": {
        "id": "NBT9BpLrTPN-"
      }
    },
    {
      "cell_type": "code",
      "execution_count": null,
      "metadata": {
        "id": "6r6B-KDoD5G8"
      },
      "outputs": [],
      "source": [
        "\n",
        "import scipy.misc as misc\n",
        "import iptools.luttools as luttools\n",
        "import matplotlib.pyplot as plt\n",
        "import iptools.imdisplaytools as imdisp\n",
        "import numpy as np\n",
        "\n",
        "def neighbours(pixelcoordinates, connexity):\n",
        "    \"\"\"\n",
        "    get a list of neighbours coordinates [row column]\n",
        "    arg1 : pixelcoordinates ==> [row column] : center pixel coordinates\n",
        "    arg2 : connexity ==> int : 4 or 8 for 2D, 6 ou 26 for 3D\n",
        "    \"\"\"\n",
        "    result = []\n",
        "\n",
        "    dim = len(pixelcoordinates)\n",
        "\n",
        "    if dim==2:\n",
        "        if connexity==4 :\n",
        "            for r in [-1, 0, 0, 1]:\n",
        "                for c in [0, -1, 1, 0]:\n",
        "                    newPixel = [pixelcoordinates[0]+r , pixelcoordinates[1]+c]\n",
        "                    result.append(newPixel)\n",
        "        elif connexity==8:\n",
        "            for i in range(-1,2,1):\n",
        "                for j in range(-1,2,1):\n",
        "                    newPixel = [pixelcoordinates[0]+r, pixelcoordinates[1]+c]\n",
        "                    result.append(newPixel)\n",
        "\n",
        "    elif dim==3:\n",
        "        raise NotImplementedError(\"3D neighbours not implemented yet !\")\n",
        "\n",
        "    return result\n",
        "\n",
        "\n",
        "def regionGrowing(img, startpixel, delta):\n",
        "    \"\"\"\n",
        "    TODO: describe this function\n",
        "    \"\"\"\n",
        "    list = []\n",
        "    list.append(startpixel)\n",
        "    mask = np.zeros(img.shape, dtype=\"bool\")\n",
        "    rows,cols = img.shape\n",
        "\n",
        "    refValue = img[startpixel[0],startpixel[1]]\n",
        "\n",
        "    while len(list) > 0:\n",
        "\n",
        "        for pixel in list:\n",
        "            print(len(list))\n",
        "            if (abs(int(img[pixel[0],pixel[1]])-refValue)<=delta):\n",
        "                mask[pixel[0],pixel[1]]=True\n",
        "\n",
        "                # check neighbours\n",
        "                for newPixel in neighbours(pixel, 4):\n",
        "                    if newPixel[0] >=0 and newPixel[0] < rows and newPixel[1] >=0 and newPixel[1] < cols:\n",
        "                        if (not mask[newPixel[0],newPixel[1]]) and (newPixel not in list):\n",
        "                            list.append(newPixel)\n",
        "\n",
        "            list.remove(pixel)\n",
        "    return mask\n",
        "\n",
        "def pickImagePixelCoordinates(im):\n",
        "    \"\"\"\n",
        "    Wait user click on image and return clicked pixel position [row column]\n",
        "    arg1 : im ==> 2d array : image\n",
        "    \"\"\"\n",
        "    imdisp.imshow(brainIm)\n",
        "    pickedPixelCoordinates = np.around(plt.ginput(0))\n",
        "    pickedPixelCoordinates = np.reshape(pickedPixelCoordinates,[2,])\n",
        "    pickedPixelCoordinates = pickedPixelCoordinates.astype(\"uint16\")\n",
        "    pickedPixelCoordinates = [pickedPixelCoordinates[1],pickedPixelCoordinates[0]]\n",
        "\n",
        "    return pickedPixelCoordinates"
      ]
    },
    {
      "cell_type": "markdown",
      "source": [
        "## b) Essayer de trouver un point (x,y) au centre de la tumeur"
      ],
      "metadata": {
        "id": "G7ZAmAQxTYLl"
      }
    },
    {
      "cell_type": "code",
      "execution_count": null,
      "metadata": {
        "id": "T6iW9QLkHYXD"
      },
      "outputs": [],
      "source": [
        "%matplotlib inline\n",
        "import imageio as iio\n",
        "brainIm = iio.v3.imread(\"brain2.png\")\n",
        "\n",
        "x= #à remplir\n",
        "y= #à remplir\n",
        "plt.figure()\n",
        "plt.imshow(brainIm)\n",
        "brainIm.shape\n",
        "plt.scatter(x, y, s=50, c='red', marker='o')\n"
      ]
    },
    {
      "cell_type": "code",
      "source": [
        "mask= regionGrowing(brainIm,[x,y],55);\n",
        "\n",
        "plt.figure()\n",
        "imdisp.imshow(brainIm)\n",
        "plt.imshow(mask,cmap='jet',alpha=0.2*(mask>0))\n"
      ],
      "metadata": {
        "id": "6VQOJ8xrN_7k"
      },
      "execution_count": null,
      "outputs": []
    }
  ],
  "metadata": {
    "celltoolbar": "Aucun(e)",
    "colab": {
      "provenance": [],
      "toc_visible": true
    },
    "kernelspec": {
      "display_name": "Python 3",
      "language": "python",
      "name": "python3"
    },
    "language_info": {
      "codemirror_mode": {
        "name": "ipython",
        "version": 3
      },
      "file_extension": ".py",
      "mimetype": "text/x-python",
      "name": "python",
      "nbconvert_exporter": "python",
      "pygments_lexer": "ipython3",
      "version": "3.8.3"
    }
  },
  "nbformat": 4,
  "nbformat_minor": 0
}