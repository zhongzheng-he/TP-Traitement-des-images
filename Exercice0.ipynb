{
  "cells": [
    {
      "cell_type": "code",
      "source": [
        "!pwd\n",
        "!git clone https://github.com/zhongzheng-he/TP-Traitement-des-images.git\n",
        "%cd /content/TP-Traitement-des-images",
       " plt.rcParams['figure.figsize'] = [10, 8] # set figure size",
       " %matplotlib inline"
      ],
      "metadata": {
        "id": "6C4W2pqW_Ziu",
        "outputId": "f9579506-285a-4b0f-97e1-7908d0e7a2dd",
        "colab": {
          "base_uri": "https://localhost:8080/"
        }
      },
      "execution_count": 10,
      "outputs": [
        {
          "output_type": "stream",
          "name": "stdout",
          "text": [
            "/content\n",
            "Cloning into 'TP-Traitement-des-images'...\n",
            "remote: Enumerating objects: 76, done.\u001b[K\n",
            "remote: Counting objects: 100% (76/76), done.\u001b[K\n",
            "remote: Compressing objects: 100% (73/73), done.\u001b[K\n",
            "remote: Total 76 (delta 22), reused 0 (delta 0), pack-reused 0\u001b[K\n",
            "Unpacking objects: 100% (76/76), done.\n",
            "/content/TP-Traitement-des-images\n"
          ]
        }
      ]
    },
    {
      "cell_type": "markdown",
      "metadata": {
        "id": "42kL_q1Q_PQ0"
      },
      "source": [
        "### On fait les imports qui vont bien"
      ]
    },
    {
      "cell_type": "code",
      "execution_count": null,
      "metadata": {
        "id": "0ShmAp7I_PQ6"
      },
      "outputs": [],
      "source": [
        "import numpy as np\n",
        "import scipy.misc as misc\n",
        "import iptools.imdisplaytools as imdisp\n",
        "from iptools.tictoc import *"
      ]
    },
    {
      "cell_type": "markdown",
      "metadata": {
        "id": "iNRPoQJN_PQ8"
      },
      "source": [
        "### Chargement d'une image test & affichage\n",
        "\n",
        "<img align=\"left\" src=\"https://github.com/zhongzheng-he/TP-Traitement-des-images/blob/main/images/loading.png?raw=1\" width=\"400px\"/>"
      ]
    },
    {
      "cell_type": "code",
      "execution_count": null,
      "metadata": {
        "id": "wRuAgmlZ_PQ9"
      },
      "outputs": [],
      "source": [
        "# image loading => create an array im\n",
        "im = misc.face(gray=True)\n",
        "\n",
        "# display image\n",
        "imdisp.imshow(im)"
      ]
    },
    {
      "cell_type": "markdown",
      "metadata": {
        "id": "n9JApYJJ_PQ9"
      },
      "source": [
        "### Afficher le pixel à la position  (row=42, column=1023)\n",
        "\n",
        "#### >> 42"
      ]
    },
    {
      "cell_type": "code",
      "execution_count": null,
      "metadata": {
        "id": "dKwjE9bZ_PQ-"
      },
      "outputs": [],
      "source": [
        "# display pixel value at position (row=42, column=1023)\n",
        "# TODO"
      ]
    },
    {
      "cell_type": "markdown",
      "metadata": {
        "id": "AWMG18m3_PQ_"
      },
      "source": [
        "### Afficher la taille de l'image :\n",
        "\n",
        "#### >> image size : (768, 1024)\n",
        "\n",
        "\n",
        "### Et le nombre de pixels :\n",
        "\n",
        "#### >> 786432"
      ]
    },
    {
      "cell_type": "code",
      "execution_count": null,
      "metadata": {
        "id": "Ts84AkdN_PRA"
      },
      "outputs": [],
      "source": [
        "# display image size & pixels\n",
        "# TODO\n"
      ]
    },
    {
      "cell_type": "markdown",
      "metadata": {
        "id": "IUyVDhSz_PRA"
      },
      "source": [
        "### Afficher le type des pixels :\n",
        "\n",
        "#### >> image pixels type : uint8"
      ]
    },
    {
      "cell_type": "code",
      "execution_count": null,
      "metadata": {
        "id": "p74fSdUj_PRC"
      },
      "outputs": [],
      "source": [
        "# display image pixels type\n",
        "# TODO"
      ]
    },
    {
      "cell_type": "markdown",
      "metadata": {
        "id": "2iChBA2n_PRC"
      },
      "source": [
        "### Afficher la somme de tous les pixels :\n",
        "\n",
        "#### >> pixels sum : 89244514"
      ]
    },
    {
      "cell_type": "code",
      "execution_count": null,
      "metadata": {
        "id": "a2Do0NRM_PRD"
      },
      "outputs": [],
      "source": [
        "# display pixels sum\n",
        "# TODO"
      ]
    },
    {
      "cell_type": "markdown",
      "metadata": {
        "id": "nOlBXVxO_PRD"
      },
      "source": [
        "### Afficher la moyenne des pixels de l'image :\n",
        "\n",
        "#### >> pixels avg : 113.480…"
      ]
    },
    {
      "cell_type": "code",
      "execution_count": null,
      "metadata": {
        "id": "lWoyyNG-_PRE"
      },
      "outputs": [],
      "source": [
        "# display pixels average value\n",
        "# TODO"
      ]
    },
    {
      "cell_type": "markdown",
      "metadata": {
        "id": "P3eqNof4_PRE"
      },
      "source": [
        "### Copier l'image dans 'im2' et multplier tous les pixels de im2 *2  ==> Afficher im2:\n",
        "\n",
        "### Expliquer ...\n",
        "\n",
        "<img align=\"left\" src=\"https://github.com/zhongzheng-he/TP-Traitement-des-images/blob/main/images/overflow.png?raw=1\" width=\"400px\"/>\n",
        "\n",
        "\n",
        "\n",
        "\n",
        "\n",
        "\n",
        "\n",
        "\n",
        "\n"
      ]
    },
    {
      "cell_type": "code",
      "execution_count": null,
      "metadata": {
        "id": "kQ59xCIF_PRE"
      },
      "outputs": [],
      "source": [
        "# copy im into im2 and multiply im2 pixels by 2; then display it\n",
        "# TODO"
      ]
    },
    {
      "cell_type": "markdown",
      "metadata": {
        "id": "5iaxLjSU_PRF"
      },
      "source": [
        "### Afficher la sous image de im [120 - 512][360-820] :\n",
        "\n",
        "<img align=\"left\" src=\"https://github.com/zhongzheng-he/TP-Traitement-des-images/blob/main/images/sub.png?raw=1\" width=\"300px\"/>\n",
        "\n",
        "\n",
        "\n",
        "\n",
        "\n",
        "\n",
        "\n",
        "\n",
        "\n"
      ]
    },
    {
      "cell_type": "code",
      "execution_count": null,
      "metadata": {
        "id": "tw93RH73_PRF"
      },
      "outputs": [],
      "source": [
        "# display subimage of im [120 - 512][360-820]\n",
        "# TODO"
      ]
    },
    {
      "cell_type": "markdown",
      "metadata": {
        "id": "ux_4xB-E_PRF"
      },
      "source": [
        "### En utilisant des boucles, afficher la valeur de tous les pixels de l'image :\n",
        "\n",
        "#### >> 114\n",
        "#### >> 130\n",
        "#### >> 145\n",
        "#### >> …"
      ]
    },
    {
      "cell_type": "code",
      "execution_count": null,
      "metadata": {
        "id": "3W-ZwrOh_PRG"
      },
      "outputs": [],
      "source": [
        "# using loops, print every image's pixels\n",
        "# TODO"
      ]
    },
    {
      "cell_type": "markdown",
      "metadata": {
        "id": "pxsITIrF_PRG"
      },
      "source": [
        "### Copier l'image dans 'im3' et supprimer (mettre à 0) la région [120 - 512][360-820]  ==> Afficher im3:\n",
        "\n",
        "<img align=\"left\" src=\"https://github.com/zhongzheng-he/TP-Traitement-des-images/blob/main/images/erase.png?raw=1\" width=\"400px\"/>\n",
        "\n",
        "\n",
        "\n",
        "\n",
        "\n",
        "\n",
        "\n",
        "\n",
        "\n"
      ]
    },
    {
      "cell_type": "code",
      "execution_count": null,
      "metadata": {
        "id": "iwKUNb6r_PRG"
      },
      "outputs": [],
      "source": [
        "tic()\n",
        "# copy im into im3 and, using loops, erase (draw in black) the region [120 - 512][360-820]\n",
        "# TODO\n",
        "\n",
        "print(\"elapsed time 1 : \",toc())\n",
        "# display \n",
        "imdisp.imshow(im3)"
      ]
    },
    {
      "cell_type": "markdown",
      "metadata": {
        "id": "ZqIQs3XU_PRH"
      },
      "source": [
        "### Faire la même chose sans boucle, en utilisant la puissance de NumPy :\n",
        "\n",
        "<img align=\"left\" src=\"https://github.com/zhongzheng-he/TP-Traitement-des-images/blob/main/images/erase.png?raw=1\" width=\"400px\"/>\n",
        "\n",
        "\n",
        "\n",
        "\n",
        "\n",
        "\n",
        "\n",
        "\n",
        "\n"
      ]
    },
    {
      "cell_type": "code",
      "execution_count": null,
      "metadata": {
        "id": "NRr_pNuN_PRH"
      },
      "outputs": [],
      "source": [
        "tic()\n",
        "# copy im into im4 and, using slicing, erase (draw in black) the region [120 - 512][360-820]\n",
        "# TODO \n",
        "print(\"elapsed time 2 : \",toc())\n",
        "\n",
        "imdisp.imshow(im3)\n",
        "\n",
        "# display it"
      ]
    },
    {
      "cell_type": "code",
      "execution_count": null,
      "metadata": {
        "id": "wW2P-Hnj_PRI"
      },
      "outputs": [],
      "source": [
        ""
      ]
    }
  ],
  "metadata": {
    "celltoolbar": "Aucun(e)",
    "kernelspec": {
      "display_name": "Python 3",
      "language": "python",
      "name": "python3"
    },
    "language_info": {
      "codemirror_mode": {
        "name": "ipython",
        "version": 3
      },
      "file_extension": ".py",
      "mimetype": "text/x-python",
      "name": "python",
      "nbconvert_exporter": "python",
      "pygments_lexer": "ipython3",
      "version": "3.8.3"
    },
    "colab": {
      "name": "Exercice0.ipynb",
      "provenance": []
    }
  },
  "nbformat": 4,
  "nbformat_minor": 0
}
