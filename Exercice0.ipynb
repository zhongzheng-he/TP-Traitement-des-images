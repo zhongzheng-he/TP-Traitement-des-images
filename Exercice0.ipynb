{
 "cells": [
  {
   "cell_type": "markdown",
   "metadata": {},
   "source": [
    "### On fait les imports qui vont bien"
   ]
  },
  {
   "cell_type": "code",
   "execution_count": null,
   "metadata": {},
   "outputs": [],
   "source": [
    "import numpy as np\n",
    "import scipy.misc as misc\n",
    "import iptools.imdisplaytools as imdisp\n",
    "from iptools.tictoc import *"
   ]
  },
  {
   "cell_type": "markdown",
   "metadata": {},
   "source": [
    "### Chargement d'une image test & affichage\n",
    "\n",
    "<img align=\"left\" src=\"images/loading.png\" width=\"400px\"/>"
   ]
  },
  {
   "cell_type": "code",
   "execution_count": null,
   "metadata": {},
   "outputs": [],
   "source": [
    "# image loading => create an array im\n",
    "im = misc.face(gray=True)\n",
    "\n",
    "# display image\n",
    "imdisp.imshow(im)"
   ]
  },
  {
   "cell_type": "markdown",
   "metadata": {},
   "source": [
    "### Afficher le pixel à la position  (row=42, column=1023)\n",
    "\n",
    "#### >> 42"
   ]
  },
  {
   "cell_type": "code",
   "execution_count": null,
   "metadata": {},
   "outputs": [],
   "source": [
    "# display pixel value at position (row=42, column=1023)\n",
    "# TODO"
   ]
  },
  {
   "cell_type": "markdown",
   "metadata": {},
   "source": [
    "### Afficher la taille de l'image :\n",
    "\n",
    "#### >> image size : (768, 1024)\n",
    "\n",
    "\n",
    "### Et le nombre de pixels :\n",
    "\n",
    "#### >> 786432"
   ]
  },
  {
   "cell_type": "code",
   "execution_count": null,
   "metadata": {},
   "outputs": [],
   "source": [
    "# display image size & pixels\n",
    "# TODO\n"
   ]
  },
  {
   "cell_type": "markdown",
   "metadata": {},
   "source": [
    "### Afficher le type des pixels :\n",
    "\n",
    "#### >> image pixels type : uint8"
   ]
  },
  {
   "cell_type": "code",
   "execution_count": null,
   "metadata": {},
   "outputs": [],
   "source": [
    "# display image pixels type\n",
    "# TODO"
   ]
  },
  {
   "cell_type": "markdown",
   "metadata": {},
   "source": [
    "### Afficher la somme de tous les pixels :\n",
    "\n",
    "#### >> pixels sum : 89244514"
   ]
  },
  {
   "cell_type": "code",
   "execution_count": null,
   "metadata": {},
   "outputs": [],
   "source": [
    "# display pixels sum\n",
    "# TODO"
   ]
  },
  {
   "cell_type": "markdown",
   "metadata": {},
   "source": [
    "### Afficher la moyenne des pixels de l'image :\n",
    "\n",
    "#### >> pixels avg : 113.480…"
   ]
  },
  {
   "cell_type": "code",
   "execution_count": null,
   "metadata": {},
   "outputs": [],
   "source": [
    "# display pixels average value\n",
    "# TODO"
   ]
  },
  {
   "cell_type": "markdown",
   "metadata": {},
   "source": [
    "### Copier l'image dans 'im2' et multplier tous les pixels de im2 *2  ==> Afficher im2:\n",
    "\n",
    "### Expliquer ...\n",
    "\n",
    "<img align=\"left\" src=\"images/overflow.png\" width=\"400px\"/>\n",
    "\n",
    "\n",
    "\n",
    "\n",
    "\n",
    "\n",
    "\n",
    "\n",
    "\n"
   ]
  },
  {
   "cell_type": "code",
   "execution_count": null,
   "metadata": {},
   "outputs": [],
   "source": [
    "# copy im into im2 and multiply im2 pixels by 2; then display it\n",
    "# TODO"
   ]
  },
  {
   "cell_type": "markdown",
   "metadata": {},
   "source": [
    "### Afficher la sous image de im [120 - 512][360-820] :\n",
    "\n",
    "<img align=\"left\" src=\"images/sub.png\" width=\"300px\"/>\n",
    "\n",
    "\n",
    "\n",
    "\n",
    "\n",
    "\n",
    "\n",
    "\n",
    "\n"
   ]
  },
  {
   "cell_type": "code",
   "execution_count": null,
   "metadata": {},
   "outputs": [],
   "source": [
    "# display subimage of im [120 - 512][360-820]\n",
    "# TODO"
   ]
  },
  {
   "cell_type": "markdown",
   "metadata": {},
   "source": [
    "### En utilisant des boucles, afficher la valeur de tous les pixels de l'image :\n",
    "\n",
    "#### >> 114\n",
    "#### >> 130\n",
    "#### >> 145\n",
    "#### >> …"
   ]
  },
  {
   "cell_type": "code",
   "execution_count": null,
   "metadata": {},
   "outputs": [],
   "source": [
    "# using loops, print every image's pixels\n",
    "# TODO"
   ]
  },
  {
   "cell_type": "markdown",
   "metadata": {},
   "source": [
    "### Copier l'image dans 'im3' et supprimer (mettre à 0) la région [120 - 512][360-820]  ==> Afficher im3:\n",
    "\n",
    "<img align=\"left\" src=\"images/erase.png\" width=\"400px\"/>\n",
    "\n",
    "\n",
    "\n",
    "\n",
    "\n",
    "\n",
    "\n",
    "\n",
    "\n"
   ]
  },
  {
   "cell_type": "code",
   "execution_count": null,
   "metadata": {},
   "outputs": [],
   "source": [
    "tic()\n",
    "# copy im into im3 and, using loops, erase (draw in black) the region [120 - 512][360-820]\n",
    "# TODO\n",
    "\n",
    "print(\"elapsed time 1 : \",toc())\n",
    "# display \n",
    "imdisp.imshow(im3)"
   ]
  },
  {
   "cell_type": "markdown",
   "metadata": {},
   "source": [
    "### Faire la même chose sans boucle, en utilisant la puissance de NumPy :\n",
    "\n",
    "<img align=\"left\" src=\"images/erase.png\" width=\"400px\"/>\n",
    "\n",
    "\n",
    "\n",
    "\n",
    "\n",
    "\n",
    "\n",
    "\n",
    "\n"
   ]
  },
  {
   "cell_type": "code",
   "execution_count": null,
   "metadata": {},
   "outputs": [],
   "source": [
    "tic()\n",
    "# copy im into im4 and, using slicing, erase (draw in black) the region [120 - 512][360-820]\n",
    "# TODO \n",
    "print(\"elapsed time 2 : \",toc())\n",
    "\n",
    "imdisp.imshow(im3)\n",
    "\n",
    "# display it"
   ]
  },
  {
   "cell_type": "code",
   "execution_count": null,
   "metadata": {},
   "outputs": [],
   "source": []
  }
 ],
 "metadata": {
  "celltoolbar": "Aucun(e)",
  "kernelspec": {
   "display_name": "Python 3",
   "language": "python",
   "name": "python3"
  },
  "language_info": {
   "codemirror_mode": {
    "name": "ipython",
    "version": 3
   },
   "file_extension": ".py",
   "mimetype": "text/x-python",
   "name": "python",
   "nbconvert_exporter": "python",
   "pygments_lexer": "ipython3",
   "version": "3.8.3"
  }
 },
 "nbformat": 4,
 "nbformat_minor": 4
}
